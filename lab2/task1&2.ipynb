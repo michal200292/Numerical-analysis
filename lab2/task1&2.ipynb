{
 "cells": [
  {
   "cell_type": "code",
   "execution_count": 1,
   "metadata": {
    "collapsed": true
   },
   "outputs": [],
   "source": [
    "import numpy as np\n",
    "from time import perf_counter\n",
    "import pandas as pd\n",
    "import matplotlib.pyplot as plt\n",
    "from copy import deepcopy"
   ]
  },
  {
   "cell_type": "code",
   "execution_count": 2,
   "outputs": [],
   "source": [
    "def random_matrix_size_n(n: int) -> np.array:\n",
    "    \"\"\"\n",
    "    :param n: matrix size \n",
    "    :return: random matrix of shape (n, n) with values from range (0, 500)\n",
    "    \"\"\"\n",
    "    return [[np.float32(np.random.uniform(0, 500)) for _ in range(n)] for _ in range(n)]\n",
    "\n",
    "\n",
    "def random_vector_size_n(n: int) -> np.array:\n",
    "    \"\"\"\n",
    "    :param n: vector length\n",
    "    :return: random vector of shape (n, ) with values from range (0, 500)\n",
    "    \"\"\"\n",
    "    return [np.float32(np.random.uniform(0, 500)) for _ in range(n)]\n",
    "\n",
    "\n",
    "def euclid_dist(v1: np.array, v2: np.array) -> float:\n",
    "    \"\"\"\n",
    "    :param v1: first vector of shape (n, ) \n",
    "    :param v2: second vector of shape (n, )\n",
    "    :return: Euclidian distance of two vectors\n",
    "    \"\"\"\n",
    "    return np.sqrt(sum([pow(v1[i] - v2[i], 2) for i in range(len(v1))]))"
   ],
   "metadata": {
    "collapsed": false
   }
  },
  {
   "cell_type": "markdown",
   "source": "## 1. Gauss-Jordan elimination",
   "metadata": {
    "collapsed": false
   }
  },
  {
   "cell_type": "code",
   "execution_count": 3,
   "outputs": [],
   "source": [
    "def scale_the_matrix(A: np.array, B: np.array) -> None:\n",
    "    \"\"\"\n",
    "    :param A: equations system matrix\n",
    "    :param B: column vector representing constant terms\n",
    "    Scales matrix A and vector B in place such that absolute values\n",
    "    of matrices entries are at most one\n",
    "    \"\"\"\n",
    "    n = len(A)\n",
    "    for i in range(n):\n",
    "        best = max(max(A[i]), B[i], abs(min(A[i])))\n",
    "        for j in range(n):\n",
    "            A[i][j] /= best\n",
    "        B[i] /= best\n"
   ],
   "metadata": {
    "collapsed": false
   }
  },
  {
   "cell_type": "code",
   "source": [
    "def gauss_jordan(A: np.array, B: np.array, scale: bool = False) -> np.array:\n",
    "    \"\"\"\n",
    "    :param A: matrix A \n",
    "    :param B: constant vector\n",
    "    :param scale: boolean variable telling whether to scale matrix before \n",
    "    elimination\n",
    "    :return: Solution for system of equations\n",
    "    Solves the linear system using standard gauss and jordan approach\n",
    "    \"\"\"\n",
    "    if scale:\n",
    "        scale_the_matrix(A, B)\n",
    "    n = len(A)\n",
    "    for i in range(n):\n",
    "        for j in range(n):\n",
    "            if i != j:\n",
    "                multiplier = A[j][i] / A[i][i]\n",
    "                for k in range(i, n):\n",
    "                    A[j][k] -= multiplier*A[i][k]\n",
    "                B[j] -= multiplier*B[i]\n",
    "\n",
    "    for i in range(n):\n",
    "        B[i] /= A[i][i]\n",
    "    return B"
   ],
   "metadata": {
    "collapsed": false,
    "ExecuteTime": {
     "end_time": "2024-05-20T14:54:43.376841Z",
     "start_time": "2024-05-20T14:54:43.228392Z"
    }
   },
   "outputs": [],
   "execution_count": 1
  },
  {
   "cell_type": "markdown",
   "source": [
    "#### Gauss-Jordan with partial pivoting\n",
    "\n",
    "In this version, the rows of the matrix could be swapped with each other, so I used the 'perm' array to swap rows without copying the whole content and to reconstruct the correct order of elements in the result vector at the end.\""
   ],
   "metadata": {
    "collapsed": false
   }
  },
  {
   "cell_type": "code",
   "execution_count": 5,
   "outputs": [],
   "source": [
    "def gauss_jordan_partial_pivoting(A: np.array, B: np.array, scale: bool = False) -> np.array:\n",
    "    \"\"\"\n",
    "    :param A: matrix A \n",
    "    :param B: constant vector\n",
    "    :param scale: boolean variable telling whether to scale matrix before \n",
    "    elimination\n",
    "    :return: Solution for system of equations\n",
    "    Solves the linear system using gauss and jordan with partial pivoting\n",
    "    \"\"\"\n",
    "    if scale:\n",
    "        scale_the_matrix(A, B)\n",
    "    n = len(A)\n",
    "    perm = [i for i in range(n)]\n",
    "    for i in range(n):\n",
    "        pivot = i\n",
    "        for j in range(i + 1, n):\n",
    "            if abs(A[perm[pivot]][i]) < abs(A[perm[j]][i]):\n",
    "                pivot = j\n",
    "\n",
    "        perm[pivot], perm[i] = perm[i], perm[pivot]\n",
    "        for j in range(n):\n",
    "            if i != j:\n",
    "                multiplier = A[perm[j]][i] / A[perm[i]][i]\n",
    "                for k in range(i, n):\n",
    "                    A[perm[j]][k] -= multiplier*A[perm[i]][k]\n",
    "                B[perm[j]] -= multiplier*B[perm[i]]\n",
    "\n",
    "    for i in range(n):\n",
    "        B[perm[i]] /= A[perm[i]][i]\n",
    "\n",
    "    ans = [0 for _ in range(n)]\n",
    "    for i in range(n):\n",
    "        ans[i] = B[perm[i]]\n",
    "    return ans"
   ],
   "metadata": {
    "collapsed": false
   }
  },
  {
   "cell_type": "markdown",
   "source": [
    "#### Gauss-Jordan with complete pivoting\n",
    "Now columns of the matrix could also be swapped with each other, so I used two separate permutation arrays for rows and columns."
   ],
   "metadata": {
    "collapsed": false
   }
  },
  {
   "cell_type": "code",
   "execution_count": 6,
   "outputs": [],
   "source": [
    "def gauss_jordan_complete_pivoting(A: np.array, B: np.array, scale: bool = False) -> np.array:\n",
    "    \"\"\"\n",
    "    :param A: matrix A \n",
    "    :param B: constant vector\n",
    "    :param scale: boolean variable telling whether to scale matrix before \n",
    "    elimination\n",
    "    :return: Solution for system of equations\n",
    "    Solves the linear system using gauss and jordan with complete pivoting\n",
    "    \"\"\"\n",
    "    if scale:\n",
    "        scale_the_matrix(A, B)\n",
    "    n = len(A)\n",
    "    perm_r = [i for i in range(n)]\n",
    "    perm_c = perm_r[:]\n",
    "    for i in range(n):\n",
    "        pivot_r = i\n",
    "        pivot_c = i\n",
    "        for j in range(i, n):\n",
    "            for k in range(i, n):\n",
    "                if abs(A[perm_r[pivot_r]][perm_c[pivot_c]]) < abs(A[perm_r[j]][perm_c[k]]):\n",
    "                    pivot_r = j\n",
    "                    pivot_c = k\n",
    "\n",
    "        perm_r[pivot_r], perm_r[i] = perm_r[i], perm_r[pivot_r]\n",
    "        perm_c[pivot_c], perm_c[i] = perm_c[i], perm_c[pivot_c]\n",
    "\n",
    "        for j in range(n):\n",
    "            if i != j:\n",
    "                multiplier = A[perm_r[j]][perm_c[i]] / A[perm_r[i]][perm_c[i]]\n",
    "                for k in range(i, n):\n",
    "                    A[perm_r[j]][perm_c[k]] -= multiplier*A[perm_r[i]][perm_c[k]]\n",
    "                B[perm_r[j]] -= multiplier*B[perm_r[i]]\n",
    "\n",
    "    for i in range(n):\n",
    "        B[perm_r[i]] /= A[perm_r[i]][perm_c[i]]\n",
    "\n",
    "    ans = [0 for _ in range(n)]\n",
    "    for i in range(n):\n",
    "        ans[perm_c[i]] = B[perm_r[i]]\n",
    "    return ans"
   ],
   "metadata": {
    "collapsed": false
   }
  },
  {
   "cell_type": "markdown",
   "source": "### Time perfomence comparison",
   "metadata": {
    "collapsed": false
   }
  },
  {
   "cell_type": "code",
   "execution_count": 14,
   "outputs": [],
   "source": [
    "def time(func, *args, **kwargs):\n",
    "    start = perf_counter()\n",
    "    func(*args, **kwargs)\n",
    "    end = perf_counter()\n",
    "    return end - start"
   ],
   "metadata": {
    "collapsed": false
   }
  },
  {
   "cell_type": "code",
   "execution_count": null,
   "outputs": [],
   "source": [
    "sizes = [10, 20, 50, 100, 200, 250, 300, 350, 400, 450, 500, 520, 550, 570, 600]\n",
    "library_time = []\n",
    "gauss_jordan_time = []\n",
    "gauss_jordan_partial_pivoting_time = []\n",
    "gauss_jordan_complete_pivoting_time = []\n",
    "for size in sizes:\n",
    "    A1 = random_matrix_size_n(size)\n",
    "    B1 = random_vector_size_n(size)\n",
    "\n",
    "    A2 = deepcopy(A1)\n",
    "    B2 = deepcopy(B1)\n",
    "    A3 = deepcopy(A1)\n",
    "    B3 = deepcopy(B1)\n",
    "\n",
    "    A4 = np.array(A1)\n",
    "    B4 = np.array(B1)\n",
    "\n",
    "    library_time.append(time(np.linalg.solve, A4, B4))\n",
    "    gauss_jordan_time.append(time(gauss_jordan, A1, B1))\n",
    "    gauss_jordan_partial_pivoting_time.append(time(gauss_jordan_partial_pivoting, A2, B2))\n",
    "    gauss_jordan_complete_pivoting_time.append(time(gauss_jordan_complete_pivoting, A3, B3))\n"
   ],
   "metadata": {
    "collapsed": false,
    "pycharm": {
     "is_executing": true
    }
   }
  },
  {
   "cell_type": "code",
   "execution_count": 84,
   "outputs": [
    {
     "data": {
      "text/plain": "                     10     20     50     100    200    250    300    350  \\\nNumpy                0.0  0.000  0.000  0.001  0.002  0.005  0.005  0.006   \nSimple Gauss-Jordan  0.0  0.001  0.014  0.101  0.844  1.772  3.214  4.821   \nPartial Pivoting     0.0  0.001  0.015  0.118  1.030  1.824  3.392  5.600   \nComplete Pivoting    0.0  0.002  0.034  0.201  1.709  3.643  6.308  9.997   \n\n                        400     450     500     520     550     570     600  \nNumpy                 0.003   0.005   0.009   0.005   0.008   0.006   0.007  \nSimple Gauss-Jordan   7.200  10.366  14.710  15.397  19.691  19.819  23.382  \nPartial Pivoting      8.369  12.124  17.098  17.788  20.688  23.138  26.892  \nComplete Pivoting    15.433  23.142  28.219  32.697  37.761  42.573  49.957  ",
      "text/html": "<div>\n<style scoped>\n    .dataframe tbody tr th:only-of-type {\n        vertical-align: middle;\n    }\n\n    .dataframe tbody tr th {\n        vertical-align: top;\n    }\n\n    .dataframe thead th {\n        text-align: right;\n    }\n</style>\n<table border=\"1\" class=\"dataframe\">\n  <thead>\n    <tr style=\"text-align: right;\">\n      <th></th>\n      <th>10</th>\n      <th>20</th>\n      <th>50</th>\n      <th>100</th>\n      <th>200</th>\n      <th>250</th>\n      <th>300</th>\n      <th>350</th>\n      <th>400</th>\n      <th>450</th>\n      <th>500</th>\n      <th>520</th>\n      <th>550</th>\n      <th>570</th>\n      <th>600</th>\n    </tr>\n  </thead>\n  <tbody>\n    <tr>\n      <th>Numpy</th>\n      <td>0.0</td>\n      <td>0.000</td>\n      <td>0.000</td>\n      <td>0.001</td>\n      <td>0.002</td>\n      <td>0.005</td>\n      <td>0.005</td>\n      <td>0.006</td>\n      <td>0.003</td>\n      <td>0.005</td>\n      <td>0.009</td>\n      <td>0.005</td>\n      <td>0.008</td>\n      <td>0.006</td>\n      <td>0.007</td>\n    </tr>\n    <tr>\n      <th>Simple Gauss-Jordan</th>\n      <td>0.0</td>\n      <td>0.001</td>\n      <td>0.014</td>\n      <td>0.101</td>\n      <td>0.844</td>\n      <td>1.772</td>\n      <td>3.214</td>\n      <td>4.821</td>\n      <td>7.200</td>\n      <td>10.366</td>\n      <td>14.710</td>\n      <td>15.397</td>\n      <td>19.691</td>\n      <td>19.819</td>\n      <td>23.382</td>\n    </tr>\n    <tr>\n      <th>Partial Pivoting</th>\n      <td>0.0</td>\n      <td>0.001</td>\n      <td>0.015</td>\n      <td>0.118</td>\n      <td>1.030</td>\n      <td>1.824</td>\n      <td>3.392</td>\n      <td>5.600</td>\n      <td>8.369</td>\n      <td>12.124</td>\n      <td>17.098</td>\n      <td>17.788</td>\n      <td>20.688</td>\n      <td>23.138</td>\n      <td>26.892</td>\n    </tr>\n    <tr>\n      <th>Complete Pivoting</th>\n      <td>0.0</td>\n      <td>0.002</td>\n      <td>0.034</td>\n      <td>0.201</td>\n      <td>1.709</td>\n      <td>3.643</td>\n      <td>6.308</td>\n      <td>9.997</td>\n      <td>15.433</td>\n      <td>23.142</td>\n      <td>28.219</td>\n      <td>32.697</td>\n      <td>37.761</td>\n      <td>42.573</td>\n      <td>49.957</td>\n    </tr>\n  </tbody>\n</table>\n</div>"
     },
     "execution_count": 84,
     "metadata": {},
     "output_type": "execute_result"
    }
   ],
   "source": [
    "df = pd.DataFrame(data=[\n",
    "    np.round(library_time, 3),\n",
    "    np.round(gauss_jordan_time, 3),\n",
    "    np.round(gauss_jordan_partial_pivoting_time, 3),\n",
    "    np.round(gauss_jordan_complete_pivoting_time, 3)],\n",
    "    columns=sizes,\n",
    "    index=['Numpy', 'Simple Gauss-Jordan', 'Partial Pivoting', 'Complete Pivoting'])\n",
    "df"
   ],
   "metadata": {
    "collapsed": false
   }
  },
  {
   "cell_type": "markdown",
   "source": "The table above represents the time taken in seconds (rounded to 0.001) to find the solution for a given matrix size and specific algorithm.",
   "metadata": {
    "collapsed": false
   }
  },
  {
   "cell_type": "code",
   "execution_count": 85,
   "outputs": [
    {
     "data": {
      "text/plain": "<Figure size 640x480 with 1 Axes>",
      "image/png": "[encoded data removed]"
     },
     "metadata": {},
     "output_type": "display_data"
    }
   ],
   "source": [
    "plt.plot(sizes, library_time, label = \"Numpy\")\n",
    "plt.plot(sizes, gauss_jordan_time, label = \"Simple Gauss-Jordan\")\n",
    "plt.plot(sizes,  gauss_jordan_partial_pivoting_time, label = \"Partial Pivoting\")\n",
    "plt.plot(sizes, gauss_jordan_complete_pivoting_time, label = \"Complete Pivoting\")\n",
    "plt.legend()\n",
    "plt.show()"
   ],
   "metadata": {
    "collapsed": false
   }
  },
  {
   "cell_type": "markdown",
   "source": [
    "The same data as in the table, but in the form of a graph.\n",
    "\n",
    "It is evident that implementations operating on Python lists are much slower than functions from the NumPy library. The other results align with expectations.\n",
    "\n",
    "Partial pivoting, unlike the classic Gauss-Jordan, searches for a pivot among the available n elements in each of the n iterations, thus performing approximately n^2 additional operations compared to the standard algorithm. However, both algorithms have cubic complexity, so there is no significant difference in time.\n",
    "\n",
    "The situation is different with complete pivoting. In n iterations, we search for a new pivot in the entire matrix, which costs approximately the same as subsequent eliminations of rows using that pivot. As seen in the table results and on the graph, complete pivoting has approximately twice the constant factor compared to the other two algorithms."
   ],
   "metadata": {
    "collapsed": false
   }
  },
  {
   "cell_type": "markdown",
   "source": "### Comparison of results accuracy",
   "metadata": {
    "collapsed": false
   }
  },
  {
   "cell_type": "markdown",
   "source": "I used the Euclidean distance between the vector returned by each algorithm and the results obtained using the numpy.linalg.solve function as a measure of result accuracy. For a given matrix size, I conducted several dozen different tests (fewer for larger matrices) and counted how many times each algorithm proved to be the most accurate, expressed as a percentage.",
   "metadata": {
    "collapsed": false
   }
  },
  {
   "cell_type": "code",
   "execution_count": null,
   "outputs": [],
   "source": [
    "tests = [(10, 100), (20, 100), (40, 100), (50, 100), (80, 50), (100, 30), (150, 30), (200, 30)]\n",
    "count = [[0 for _ in range(3)] for _ in range(len(tests))]\n",
    "functions = [(gauss_jordan, 0), (gauss_jordan_partial_pivoting, 1), (gauss_jordan_complete_pivoting, 2)]\n",
    "\n",
    "for index, (size, no_of_tests) in enumerate(tests):\n",
    "    for _ in range(no_of_tests):\n",
    "        A1 = random_matrix_size_n(size)\n",
    "        B1 = random_vector_size_n(size)\n",
    "\n",
    "        numpy_vector = np.linalg.solve(A1, B1)\n",
    "        best = float(\"inf\")\n",
    "        best_id = 0\n",
    "        for f, f_id in functions:\n",
    "            A2 = deepcopy(A1)\n",
    "            B2 = deepcopy(B1)\n",
    "            vect = f(A2, B2)\n",
    "            dist = euclid_dist(numpy_vector, vect)\n",
    "            if dist < best:\n",
    "                best = dist\n",
    "                best_id = f_id\n",
    "\n",
    "        count[index][best_id] += 1\n"
   ],
   "metadata": {
    "collapsed": false,
    "pycharm": {
     "is_executing": true
    }
   }
  },
  {
   "cell_type": "code",
   "execution_count": 110,
   "outputs": [
    {
     "data": {
      "text/plain": "                      10    20    40    50    80   100    150  200\nSimple Gauss-Jordan  0.01  0.00  0.00  0.00  0.00  0.0  0.000  0.0\nPartial Pivoting     0.45  0.39  0.42  0.42  0.28  0.3  0.433  0.3\nComplete Pivoting    0.54  0.61  0.58  0.58  0.72  0.7  0.567  0.7",
      "text/html": "<div>\n<style scoped>\n    .dataframe tbody tr th:only-of-type {\n        vertical-align: middle;\n    }\n\n    .dataframe tbody tr th {\n        vertical-align: top;\n    }\n\n    .dataframe thead th {\n        text-align: right;\n    }\n</style>\n<table border=\"1\" class=\"dataframe\">\n  <thead>\n    <tr style=\"text-align: right;\">\n      <th></th>\n      <th>10</th>\n      <th>20</th>\n      <th>40</th>\n      <th>50</th>\n      <th>80</th>\n      <th>100</th>\n      <th>150</th>\n      <th>200</th>\n    </tr>\n  </thead>\n  <tbody>\n    <tr>\n      <th>Simple Gauss-Jordan</th>\n      <td>0.01</td>\n      <td>0.00</td>\n      <td>0.00</td>\n      <td>0.00</td>\n      <td>0.00</td>\n      <td>0.0</td>\n      <td>0.000</td>\n      <td>0.0</td>\n    </tr>\n    <tr>\n      <th>Partial Pivoting</th>\n      <td>0.45</td>\n      <td>0.39</td>\n      <td>0.42</td>\n      <td>0.42</td>\n      <td>0.28</td>\n      <td>0.3</td>\n      <td>0.433</td>\n      <td>0.3</td>\n    </tr>\n    <tr>\n      <th>Complete Pivoting</th>\n      <td>0.54</td>\n      <td>0.61</td>\n      <td>0.58</td>\n      <td>0.58</td>\n      <td>0.72</td>\n      <td>0.7</td>\n      <td>0.567</td>\n      <td>0.7</td>\n    </tr>\n  </tbody>\n</table>\n</div>"
     },
     "execution_count": 110,
     "metadata": {},
     "output_type": "execute_result"
    }
   ],
   "source": [
    "t1, t2, t3 = [], [], []\n",
    "for row in count:\n",
    "    count_all = sum(row)\n",
    "    t1.append(row[0] / count_all)\n",
    "    t2.append(row[1] / count_all)\n",
    "    t3.append(row[2] / count_all)\n",
    "\n",
    "test_sizes = [a for a, b in tests]\n",
    "df = pd.DataFrame(data=[\n",
    "    np.round(t1, 3),\n",
    "    np.round(t2, 3),\n",
    "    np.round(t3, 3)],\n",
    "    columns=test_sizes,\n",
    "    index=['Simple Gauss-Jordan', 'Partial Pivoting', 'Complete Pivoting'])\n",
    "df"
   ],
   "metadata": {
    "collapsed": false
   }
  },
  {
   "cell_type": "markdown",
   "source": [
    "\n",
    "The values in the first row represent the matrix dimension, and the values in the table indicate the percentage of cases in which a particular algorithm proved to be the best."
   ],
   "metadata": {
    "collapsed": false
   }
  },
  {
   "cell_type": "code",
   "execution_count": 111,
   "outputs": [
    {
     "data": {
      "text/plain": "<Figure size 640x480 with 1 Axes>",
      "image/png": "[encoded data removed]"
     },
     "metadata": {},
     "output_type": "display_data"
    }
   ],
   "source": [
    "plt.plot(test_sizes, t1, label = \"Simple Gauss-Jordan\")\n",
    "plt.plot(test_sizes,  t2, label = \"Partial Pivoting\")\n",
    "plt.plot(test_sizes, t3, label = \"Complete Pivoting\")\n",
    "plt.legend()\n",
    "plt.show()"
   ],
   "metadata": {
    "collapsed": false
   }
  },
  {
   "cell_type": "markdown",
   "source": [
    "\n",
    "As expected, the standard Gauss-Jordan method turned out to be very inaccurate, while the algorithm utilizing complete pivoting showed the highest numerical accuracy."
   ],
   "metadata": {
    "collapsed": false
   }
  },
  {
   "cell_type": "markdown",
   "source": "## LU Decomposition",
   "metadata": {
    "collapsed": false
   }
  },
  {
   "cell_type": "markdown",
   "source": "The algorithm operates in place, with elements of both matrices (L and U) stored within the given matrix A. Additionally, it is known that the main diagonal of the matrix L consists of ones.",
   "metadata": {
    "collapsed": false
   }
  },
  {
   "cell_type": "code",
   "source": [
    "def lu_decomposition_in_situ(A: np.array) -> np.array:\n",
    "    \"\"\"\n",
    "    :param A: square matrix\n",
    "    :return: LU decomposition of matrix A\n",
    "    \"\"\"\n",
    "    n = len(A)\n",
    "    for i in range(n - 1):\n",
    "        for j in range(i + 1, n):\n",
    "            multiplier = A[j][i] / A[i][i]\n",
    "            A[j][i] = multiplier\n",
    "            for k in range(i + 1, n):\n",
    "                A[j][k] -= multiplier*A[i][k]\n",
    "    return A"
   ],
   "metadata": {
    "collapsed": false,
    "ExecuteTime": {
     "end_time": "2024-05-20T15:25:59.881234Z",
     "start_time": "2024-05-20T15:25:59.867462Z"
    }
   },
   "outputs": [],
   "execution_count": 1
  },
  {
   "cell_type": "markdown",
   "source": "The function multiplies matrices L and U, then calculates the distance between matrix A, which was the initial matrix, and the matrix obtained by multiplying L and U. In this case, distance refers to the Frobenius norm of the difference between the two matrices. Since both matrices are stored in one matrix, the multiplication algorithm is implemented somewhat differently.",
   "metadata": {
    "collapsed": false
   }
  },
  {
   "cell_type": "code",
   "execution_count": 12,
   "outputs": [],
   "source": [
    "def compute_lu_distance(A: np.array, LU: np.array) -> float:\n",
    "    \"\"\"\n",
    "    :param A: matrix A \n",
    "    :param LU: LU decomposition of matrix A stored in one matrix\n",
    "    :return: Frobenius distance A and multiplied Lu\n",
    "    \"\"\"\n",
    "    C = np.zeros((len(A), len(A)))\n",
    "    n = len(A)\n",
    "    norm = 0\n",
    "    for i in range(n):\n",
    "        for j in range(n):\n",
    "            entry = 0\n",
    "            if i == j:\n",
    "                for k in range(i):\n",
    "                    entry += LU[i][k] * LU[k][i]\n",
    "                entry += LU[i][i]\n",
    "            elif i < j:\n",
    "                for k in range(i):\n",
    "                    entry += LU[i][k]*LU[k][j]\n",
    "                entry += LU[i][j]\n",
    "            else:\n",
    "                for k in range(j + 1):\n",
    "                    entry += LU[i][k]*LU[k][j]\n",
    "            C[i][j] = entry\n",
    "            norm += pow(A[i][j] - entry, 2)\n",
    "    return np.sqrt(norm)"
   ],
   "metadata": {
    "collapsed": false
   }
  },
  {
   "cell_type": "code",
   "execution_count": null,
   "outputs": [],
   "source": [
    "matrix_distance = []\n",
    "t_sizes = [10, 20, 30, 50, 100, 200, 250, 300, 350, 400, 450, 500]\n",
    "for size in t_sizes:\n",
    "    A = random_matrix_size_n(size)\n",
    "    A_copy = deepcopy(A)\n",
    "    lu_decomposition_in_situ(A)\n",
    "    matrix_distance.append(compute_lu_distance(A_copy, A))"
   ],
   "metadata": {
    "collapsed": false,
    "pycharm": {
     "is_executing": true
    }
   }
  },
  {
   "cell_type": "code",
   "execution_count": 41,
   "outputs": [
    {
     "data": {
      "text/plain": "                   10     20     30     50     100    200   250     300  \\\nMatrix Distance  0.001  0.002  0.005  0.021  0.115  0.911  2.18  18.891   \n\n                   350    400    450     500  \nMatrix Distance  3.821  96.26  2.871  64.362  ",
      "text/html": "<div>\n<style scoped>\n    .dataframe tbody tr th:only-of-type {\n        vertical-align: middle;\n    }\n\n    .dataframe tbody tr th {\n        vertical-align: top;\n    }\n\n    .dataframe thead th {\n        text-align: right;\n    }\n</style>\n<table border=\"1\" class=\"dataframe\">\n  <thead>\n    <tr style=\"text-align: right;\">\n      <th></th>\n      <th>10</th>\n      <th>20</th>\n      <th>30</th>\n      <th>50</th>\n      <th>100</th>\n      <th>200</th>\n      <th>250</th>\n      <th>300</th>\n      <th>350</th>\n      <th>400</th>\n      <th>450</th>\n      <th>500</th>\n    </tr>\n  </thead>\n  <tbody>\n    <tr>\n      <th>Matrix Distance</th>\n      <td>0.001</td>\n      <td>0.002</td>\n      <td>0.005</td>\n      <td>0.021</td>\n      <td>0.115</td>\n      <td>0.911</td>\n      <td>2.18</td>\n      <td>18.891</td>\n      <td>3.821</td>\n      <td>96.26</td>\n      <td>2.871</td>\n      <td>64.362</td>\n    </tr>\n  </tbody>\n</table>\n</div>"
     },
     "execution_count": 41,
     "metadata": {},
     "output_type": "execute_result"
    }
   ],
   "source": [
    "df = pd.DataFrame(data=[np.round(matrix_distance, 3)],\n",
    "    columns=t_sizes,\n",
    "    index=['Matrix Distance'])\n",
    "df"
   ],
   "metadata": {
    "collapsed": false
   }
  },
  {
   "cell_type": "code",
   "execution_count": 43,
   "outputs": [
    {
     "data": {
      "text/plain": "<Figure size 640x480 with 1 Axes>",
      "image/png": "[encoded data removed]"
     },
     "metadata": {},
     "output_type": "display_data"
    }
   ],
   "source": [
    "plt.plot(t_sizes, matrix_distance)\n",
    "plt.show()"
   ],
   "metadata": {
    "collapsed": false
   }
  },
  {
   "cell_type": "markdown",
   "source": "The inaccuracy of these calculations was influenced both by inaccuracies in the elimination process and by subsequent multiplication. It's evident that the discrepancy could be quite significant.",
   "metadata": {
    "collapsed": false
   }
  },
  {
   "cell_type": "markdown",
   "source": [],
   "metadata": {
    "collapsed": false
   }
  }
 ],
 "metadata": {
  "kernelspec": {
   "display_name": "Python 3",
   "language": "python",
   "name": "python3"
  },
  "language_info": {
   "codemirror_mode": {
    "name": "ipython",
    "version": 2
   },
   "file_extension": ".py",
   "mimetype": "text/x-python",
   "name": "python",
   "nbconvert_exporter": "python",
   "pygments_lexer": "ipython2",
   "version": "2.7.6"
  }
 },
 "nbformat": 4,
 "nbformat_minor": 0
}
