{
 "cells": [
  {
   "cell_type": "code",
   "execution_count": 1,
   "metadata": {
    "ExecuteTime": {
     "end_time": "2024-06-03T22:25:49.864023Z",
     "start_time": "2024-06-03T22:25:47.715337Z"
    },
    "collapsed": true
   },
   "outputs": [],
   "source": [
    "from data_manager import Vector, TruncatedMatrix\n",
    "import json\n",
    "import pickle\n",
    "from math import log10 as log\n",
    "import numpy as np\n",
    "from scipy import sparse\n",
    "from sklearn.decomposition import TruncatedSVD"
   ]
  },
  {
   "cell_type": "code",
   "execution_count": 2,
   "metadata": {
    "ExecuteTime": {
     "end_time": "2024-06-03T22:25:51.760917Z",
     "start_time": "2024-06-03T22:25:51.401172Z"
    },
    "collapsed": false
   },
   "outputs": [],
   "source": [
    "with open(\"data/alphabet.json\", \"r\", encoding=\"latin-1\") as f:\n",
    "    alphabet = json.load(f)"
   ]
  },
  {
   "cell_type": "code",
   "execution_count": null,
   "metadata": {
    "collapsed": false
   },
   "outputs": [],
   "source": [
    "vectors: list[Vector] = []\n",
    "with open(\"data/Bag_of_words.pickle\", \"rb\") as f:\n",
    "    while True:\n",
    "        try:\n",
    "            vectors.append(pickle.load(f))\n",
    "        except EOFError:\n",
    "            break"
   ]
  },
  {
   "cell_type": "code",
   "execution_count": 6,
   "metadata": {
    "ExecuteTime": {
     "end_time": "2024-06-03T21:51:10.413783Z",
     "start_time": "2024-06-03T21:51:10.358954Z"
    },
    "collapsed": false
   },
   "outputs": [
    {
     "name": "stdout",
     "output_type": "stream",
     "text": [
      "231286 607282\n"
     ]
    }
   ],
   "source": [
    "N = len(vectors)\n",
    "M = len(alphabet)\n",
    "print(M, N)"
   ]
  },
  {
   "cell_type": "code",
   "execution_count": 7,
   "metadata": {
    "ExecuteTime": {
     "end_time": "2024-06-03T21:57:31.630321Z",
     "start_time": "2024-06-03T21:53:13.410008Z"
    },
    "collapsed": false
   },
   "outputs": [],
   "source": [
    "word_frequency = {}\n",
    "for word in alphabet:\n",
    "    word_frequency[word] = 0\n",
    "\n",
    "for vec in vectors:\n",
    "    for word in vec.vector:\n",
    "        word_frequency[word] += 1\n",
    "\n",
    "idf = {}\n",
    "for word in word_frequency:\n",
    "    idf[word] = log(N / word_frequency[word])"
   ]
  },
  {
   "cell_type": "code",
   "execution_count": 10,
   "metadata": {
    "ExecuteTime": {
     "end_time": "2024-06-03T22:10:34.380462Z",
     "start_time": "2024-06-03T22:10:34.355024Z"
    },
    "collapsed": false
   },
   "outputs": [],
   "source": [
    "def create_sparse_matrix(filename=\"sparse_matrix.npz\", use_idf=False):\n",
    "    no_of_entries = 0\n",
    "    for v in vectors:\n",
    "        no_of_entries += len(v.vector)\n",
    "\n",
    "    data = np.array([0 for _ in range(no_of_entries)], dtype=float)\n",
    "    row = np.array([0 for _ in range(no_of_entries)], dtype=int)\n",
    "    col = np.copy(row)\n",
    "\n",
    "    ind = 0\n",
    "    for i, v in enumerate(vectors):\n",
    "        start = ind\n",
    "        for w in v.vector:\n",
    "            data[ind] = v.vector[w] * (idf[w] if use_idf else 1)\n",
    "            row[ind] = alphabet[w]\n",
    "            col[ind] = i\n",
    "            ind += 1\n",
    "        data[start:ind] /= np.linalg.norm(data[start:ind])\n",
    "\n",
    "    matrix_to_save = sparse.csr_matrix((data, (row, col)), shape=(M, N), dtype=float)\n",
    "    sparse.save_npz(f\"data/matrices/{filename}\", matrix_to_save)"
   ]
  },
  {
   "cell_type": "code",
   "execution_count": 11,
   "metadata": {
    "ExecuteTime": {
     "end_time": "2024-06-03T22:22:57.039993Z",
     "start_time": "2024-06-03T22:10:39.829090Z"
    },
    "collapsed": false
   },
   "outputs": [],
   "source": [
    "create_sparse_matrix(\"sparse_matrix_idf.npz\", use_idf=True)"
   ]
  },
  {
   "cell_type": "code",
   "execution_count": 3,
   "metadata": {
    "ExecuteTime": {
     "end_time": "2024-06-03T22:26:07.797464Z",
     "start_time": "2024-06-03T22:26:00.264486Z"
    },
    "collapsed": false
   },
   "outputs": [],
   "source": [
    "matrix_idf = sparse.load_npz(\"data/matrices/sparse_matrix_idf.npz\")"
   ]
  },
  {
   "cell_type": "code",
   "execution_count": 4,
   "metadata": {
    "ExecuteTime": {
     "end_time": "2024-06-03T22:26:10.729371Z",
     "start_time": "2024-06-03T22:26:10.724551Z"
    },
    "collapsed": false
   },
   "outputs": [],
   "source": [
    "def save_truncated_svd(truncation_level):\n",
    "    svd = TruncatedSVD(truncation_level).fit(matrix_idf)\n",
    "    u_s = svd.transform(matrix_idf)\n",
    "    sigma = svd.singular_values_\n",
    "    v = svd.components_\n",
    "    vector_lengths = np.linalg.norm(np.diag(sigma) @ v, axis=0)\n",
    "    svd_truncation_level = TruncatedMatrix(truncation_level, u_s, sigma, v, vector_lengths)\n",
    "    with open(f\"data/matrices/svd_matrix_{truncation_level}.pickle\", \"wb\") as file:\n",
    "        pickle.dump(svd_truncation_level, file)"
   ]
  },
  {
   "cell_type": "code",
   "execution_count": null,
   "metadata": {
    "ExecuteTime": {
     "start_time": "2024-06-03T22:26:17.800013Z"
    },
    "collapsed": false,
    "jupyter": {
     "is_executing": true
    }
   },
   "outputs": [],
   "source": [
    "%%time\n",
    "save_truncated_svd(20)"
   ]
  },
  {
   "cell_type": "code",
   "execution_count": null,
   "metadata": {
    "collapsed": false,
    "jupyter": {
     "is_executing": true
    }
   },
   "outputs": [],
   "source": [
    "%%time\n",
    "save_truncated_svd(50)"
   ]
  },
  {
   "cell_type": "code",
   "execution_count": null,
   "metadata": {
    "collapsed": false,
    "jupyter": {
     "is_executing": true
    }
   },
   "outputs": [],
   "source": [
    "%%time\n",
    "save_truncated_svd(100)"
   ]
  }
 ],
 "metadata": {
  "kernelspec": {
   "display_name": "Python 3",
   "language": "python",
   "name": "python3"
  },
  "language_info": {
   "codemirror_mode": {
    "name": "ipython",
    "version": 2
   },
   "file_extension": ".py",
   "mimetype": "text/x-python",
   "name": "python",
   "nbconvert_exporter": "python",
   "pygments_lexer": "ipython2",
   "version": "2.7.6"
  }
 },
 "nbformat": 4,
 "nbformat_minor": 0
}
