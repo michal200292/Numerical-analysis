{
 "cells": [
  {
   "cell_type": "code",
   "id": "initial_id",
   "metadata": {
    "collapsed": true,
    "ExecuteTime": {
     "end_time": "2024-06-03T23:19:10.118709Z",
     "start_time": "2024-06-03T23:19:09.256404Z"
    }
   },
   "source": [
    "from data_manager import TruncatedMatrix, Question\n",
    "import json\n",
    "import pickle\n",
    "import numpy as np\n",
    "from scipy import sparse"
   ],
   "outputs": [],
   "execution_count": 1
  },
  {
   "metadata": {
    "ExecuteTime": {
     "end_time": "2024-06-03T23:19:11.389178Z",
     "start_time": "2024-06-03T23:19:11.227293Z"
    }
   },
   "cell_type": "code",
   "source": [
    "with open(\"../data/alphabet.json\", \"r\", encoding=\"latin-1\") as f:\n",
    "    alphabet = json.load(f)\n",
    "    \n",
    "def load_truncated_svd(truncation_level):\n",
    "    with open(f\"../data/matrices/svd_matrix_{truncation_level}.pickle\", \"rb\") as file:\n",
    "        svd = pickle.load(file)\n",
    "    return svd"
   ],
   "id": "dba3ef1e32c9b103",
   "outputs": [],
   "execution_count": 2
  },
  {
   "metadata": {
    "ExecuteTime": {
     "end_time": "2024-06-03T23:19:14.919411Z",
     "start_time": "2024-06-03T23:19:12.446829Z"
    }
   },
   "cell_type": "code",
   "source": [
    "questions: list[Question] = []\n",
    "with open(\"../data/questions.pickle\", \"rb\") as f:\n",
    "    while True:\n",
    "        try:\n",
    "            questions.append(pickle.load(f))\n",
    "        except EOFError:\n",
    "            break"
   ],
   "id": "f61ea6ad6f86c935",
   "outputs": [],
   "execution_count": 3
  },
  {
   "metadata": {
    "ExecuteTime": {
     "end_time": "2024-06-03T23:19:17.119930Z",
     "start_time": "2024-06-03T23:19:17.109991Z"
    }
   },
   "cell_type": "code",
   "source": "N, M = 607282, 231286 ",
   "id": "312175b94c34fe88",
   "outputs": [],
   "execution_count": 4
  },
  {
   "metadata": {
    "ExecuteTime": {
     "end_time": "2024-06-03T23:19:22.393243Z",
     "start_time": "2024-06-03T23:19:18.241452Z"
    }
   },
   "cell_type": "code",
   "source": [
    "from nltk.tokenize import word_tokenize, sent_tokenize\n",
    "from nltk.corpus import stopwords\n",
    "from nltk.stem import SnowballStemmer\n",
    "from nltk.probability import FreqDist\n",
    "from string import punctuation\n",
    "from math import sqrt\n",
    "\n",
    "\n",
    "stop_words = set([word.lower() for word in stopwords.words('english')])\n",
    "snowball_stemmer = SnowballStemmer('english')\n",
    "\n",
    "def normalize_vector(vector):\n",
    "    length = 0\n",
    "    for w in vector:\n",
    "        length += vector[w]**2\n",
    "    length = sqrt(length)\n",
    "    for w in vector:\n",
    "        vector[w] /= length\n",
    "    return vector\n",
    "\n",
    "def process_text(text: str) -> dict[str, int]:\n",
    "    text = \"\".join(list(map(lambda c: \" \" if c in punctuation else c, text)))\n",
    "    words = [w.lower() for sentence in sent_tokenize(text) for w in word_tokenize(sentence)]\n",
    "    words = [w for w in words if w not in stop_words]\n",
    "    words = [snowball_stemmer.stem(w) for w in words]\n",
    "    words = [w for w in words if w in alphabet]\n",
    "    return normalize_vector(dict(FreqDist(words)))"
   ],
   "id": "77d05e63f548fbaf",
   "outputs": [],
   "execution_count": 5
  },
  {
   "metadata": {
    "ExecuteTime": {
     "end_time": "2024-06-03T23:19:49.672061Z",
     "start_time": "2024-06-03T23:19:49.652056Z"
    }
   },
   "cell_type": "code",
   "source": [
    "def convert_to_sparse(query):\n",
    "    data = np.array([0 for _ in range(len(query))], dtype=float)\n",
    "    row = np.array([0 for _ in range(len(query))], dtype=int)\n",
    "    col = np.copy(row)\n",
    "    ind = 0\n",
    "    for w in query:\n",
    "        data[ind] = query[w]\n",
    "        col[ind] = alphabet[w]\n",
    "        ind += 1\n",
    "\n",
    "    return sparse.csr_matrix((data, (row, col)), shape=(1, M), dtype=float)\n",
    "\n",
    "def k_best_vectors(vector: sparse.csr_matrix, k: int):\n",
    "    best_values = np.sort(vector.todense(), axis=1)[:, ::-1]\n",
    "    best_indices = np.argsort(vector.todense(), axis=1)[:, ::-1]\n",
    "    return [(best_indices[0, i], best_values[0, i]) for i in range(k)]\n",
    "\n",
    "def convert_to_dense(query):\n",
    "    data = np.array([0 for _ in range(M)], dtype=float)\n",
    "    for w in query:\n",
    "        data[alphabet[w]] = query[w]\n",
    "    return data\n",
    "\n",
    "def find_closest_vectors_svd(query, svd: TruncatedMatrix, k: int):\n",
    "    dense_query = convert_to_dense(query)\n",
    "    best = np.abs(((dense_query @ svd.U_S) @ svd.V) / svd.vector_lengths)\n",
    "    return list(zip(np.argsort(best)[::-1][:k], np.sort(best)[::-1][:k]))\n",
    "\n",
    "def print_answers(query_text, function, *args):\n",
    "    q = process_text(query_text)\n",
    "    res = function(q, *args)\n",
    "    url = \"https://stackoverflow.com/questions/\"\n",
    "    for i, (ind, angle) in enumerate(res):\n",
    "        print(f\"Result number: {i + 1}\")\n",
    "        print(f\"Absolut value of angle between query and result: {angle}\")\n",
    "        print(f\"Question: {questions[ind].title}\")\n",
    "        print(f\"Question site url: {url}{questions[ind].id}\")\n",
    "        print(\"--------------------------------------\")"
   ],
   "id": "480dbbbb21ca21da",
   "outputs": [],
   "execution_count": 10
  },
  {
   "metadata": {
    "ExecuteTime": {
     "end_time": "2024-06-03T23:19:50.356373Z",
     "start_time": "2024-06-03T23:19:50.346373Z"
    }
   },
   "cell_type": "code",
   "source": "question = \"What are generators\"",
   "id": "b59cd6c77acf4465",
   "outputs": [],
   "execution_count": 11
  },
  {
   "metadata": {
    "ExecuteTime": {
     "end_time": "2024-06-03T23:19:51.235709Z",
     "start_time": "2024-06-03T23:19:50.863673Z"
    }
   },
   "cell_type": "code",
   "source": "truncated_idf = load_truncated_svd(100)",
   "id": "bbce7d502405e427",
   "outputs": [],
   "execution_count": 12
  },
  {
   "metadata": {
    "ExecuteTime": {
     "end_time": "2024-06-03T23:19:51.637514Z",
     "start_time": "2024-06-03T23:19:51.433139Z"
    }
   },
   "cell_type": "code",
   "source": "print_answers(question, find_closest_vectors_svd, truncated_idf, 20)",
   "id": "4ef15a602e5ccca5",
   "outputs": [
    {
     "name": "stdout",
     "output_type": "stream",
     "text": [
      "Result number: 1\n",
      "Absolut value of angle between query and result: 0.14018989411145244\n",
      "Question: Recursive python generators: why does the yield need to be iterated over?\n",
      "Question site url: https://stackoverflow.com/questions/25141510\n",
      "--------------------------------------\n",
      "Result number: 2\n",
      "Absolut value of angle between query and result: 0.13884618695721068\n",
      "Question: Fast way for getting unique values from iterators\n",
      "Question site url: https://stackoverflow.com/questions/27440441\n",
      "--------------------------------------\n",
      "Result number: 3\n",
      "Absolut value of angle between query and result: 0.13701741582915355\n",
      "Question: Are Python/ES6 Generators also Coroutines?\n",
      "Question site url: https://stackoverflow.com/questions/31892128\n",
      "--------------------------------------\n",
      "Result number: 4\n",
      "Absolut value of angle between query and result: 0.13679040610320933\n",
      "Question: Itertools.permutations create n random solutions to the TSP\n",
      "Question site url: https://stackoverflow.com/questions/25805138\n",
      "--------------------------------------\n",
      "Result number: 5\n",
      "Absolut value of angle between query and result: 0.13509377962266955\n",
      "Question: Python: generating a continuous distribution (type Maxwell-Boltzmann) to generate random values\n",
      "Question site url: https://stackoverflow.com/questions/18436523\n",
      "--------------------------------------\n",
      "Result number: 6\n",
      "Absolut value of angle between query and result: 0.13458128813605552\n",
      "Question: Iterate on shuffled cartesian product in Haskell\n",
      "Question site url: https://stackoverflow.com/questions/33186838\n",
      "--------------------------------------\n",
      "Result number: 7\n",
      "Absolut value of angle between query and result: 0.13364166093488314\n",
      "Question: Python : calling a function inside a while loop results in runaway recursion\n",
      "Question site url: https://stackoverflow.com/questions/13645675\n",
      "--------------------------------------\n",
      "Result number: 8\n",
      "Absolut value of angle between query and result: 0.1334507041002208\n",
      "Question: Why \"yield from\" does not work as expected in all() or any()?\n",
      "Question site url: https://stackoverflow.com/questions/33739182\n",
      "--------------------------------------\n",
      "Result number: 9\n",
      "Absolut value of angle between query and result: 0.13202206830575478\n",
      "Question: Why do Python generator functions not have a syntactically different notation from 'regular' functions?\n",
      "Question site url: https://stackoverflow.com/questions/20182404\n",
      "--------------------------------------\n",
      "Result number: 10\n",
      "Absolut value of angle between query and result: 0.13198736800931943\n",
      "Question: Random and Itertools\n",
      "Question site url: https://stackoverflow.com/questions/39981461\n",
      "--------------------------------------\n",
      "Result number: 11\n",
      "Absolut value of angle between query and result: 0.13166355710757313\n",
      "Question: Generating crypto-secure strings for OAuth tokens\n",
      "Question site url: https://stackoverflow.com/questions/12104506\n",
      "--------------------------------------\n",
      "Result number: 12\n",
      "Absolut value of angle between query and result: 0.13153232514223515\n",
      "Question: itertools: Python Module help creating combinations/permutations\n",
      "Question site url: https://stackoverflow.com/questions/33286286\n",
      "--------------------------------------\n",
      "Result number: 13\n",
      "Absolut value of angle between query and result: 0.1303922362501718\n",
      "Question: What is the difference between normal function and generator function?\n",
      "Question site url: https://stackoverflow.com/questions/22214490\n",
      "--------------------------------------\n",
      "Result number: 14\n",
      "Absolut value of angle between query and result: 0.1300428599080165\n",
      "Question: Redundant use of generators? (Python)\n",
      "Question site url: https://stackoverflow.com/questions/21025656\n",
      "--------------------------------------\n",
      "Result number: 15\n",
      "Absolut value of angle between query and result: 0.1291929834024043\n",
      "Question: most pythonic way to interate a finite but arbitrary number of time through list values\n",
      "Question site url: https://stackoverflow.com/questions/23715290\n",
      "--------------------------------------\n",
      "Result number: 16\n",
      "Absolut value of angle between query and result: 0.1290007747324868\n",
      "Question: Shuffling combinations without converting iterable (itertools.combinations) to list\n",
      "Question site url: https://stackoverflow.com/questions/36779729\n",
      "--------------------------------------\n",
      "Result number: 17\n",
      "Absolut value of angle between query and result: 0.12885445162001594\n",
      "Question: How to write Python generator function that never yields anything\n",
      "Question site url: https://stackoverflow.com/questions/6266561\n",
      "--------------------------------------\n",
      "Result number: 18\n",
      "Absolut value of angle between query and result: 0.12842152378577734\n",
      "Question: python 2.7 xrange too big argument error\n",
      "Question site url: https://stackoverflow.com/questions/28597620\n",
      "--------------------------------------\n",
      "Result number: 19\n",
      "Absolut value of angle between query and result: 0.1282325164780421\n",
      "Question: generate random number through multiple iterations\n",
      "Question site url: https://stackoverflow.com/questions/28644808\n",
      "--------------------------------------\n",
      "Result number: 20\n",
      "Absolut value of angle between query and result: 0.1277932519480219\n",
      "Question: Why is it slower to iterate over a small string than a small list?\n",
      "Question site url: https://stackoverflow.com/questions/23861468\n",
      "--------------------------------------\n"
     ]
    }
   ],
   "execution_count": 13
  },
  {
   "metadata": {
    "ExecuteTime": {
     "end_time": "2024-06-03T23:19:54.702871Z",
     "start_time": "2024-06-03T23:19:54.692857Z"
    }
   },
   "cell_type": "code",
   "source": "question = \"Switch case in python\"",
   "id": "3fdefb8de11e6fc2",
   "outputs": [],
   "execution_count": 14
  },
  {
   "metadata": {
    "ExecuteTime": {
     "end_time": "2024-06-03T23:19:55.530805Z",
     "start_time": "2024-06-03T23:19:55.292243Z"
    }
   },
   "cell_type": "code",
   "source": "print_answers(question, find_closest_vectors_svd, truncated_idf, 20)",
   "id": "3a4557f5ba028580",
   "outputs": [
    {
     "name": "stdout",
     "output_type": "stream",
     "text": [
      "Result number: 1\n",
      "Absolut value of angle between query and result: 0.04546931845836813\n",
      "Question: Are there technical reasons a Ruby DSL like RSpec couldn't be rewritten in Python?\n",
      "Question site url: https://stackoverflow.com/questions/7079855\n",
      "--------------------------------------\n",
      "Result number: 2\n",
      "Absolut value of angle between query and result: 0.04511185468400673\n",
      "Question: design of python: why is assert a statement and not a function?\n",
      "Question site url: https://stackoverflow.com/questions/13390401\n",
      "--------------------------------------\n",
      "Result number: 3\n",
      "Absolut value of angle between query and result: 0.044239640026830215\n",
      "Question: Do we have something similar/equivalent to Jdbctemplate in Python?\n",
      "Question site url: https://stackoverflow.com/questions/7494640\n",
      "--------------------------------------\n",
      "Result number: 4\n",
      "Absolut value of angle between query and result: 0.044065791374514926\n",
      "Question: Terse error-checking in Python\n",
      "Question site url: https://stackoverflow.com/questions/20964210\n",
      "--------------------------------------\n",
      "Result number: 5\n",
      "Absolut value of angle between query and result: 0.043411995968426244\n",
      "Question: changing Python code in the debugger\n",
      "Question site url: https://stackoverflow.com/questions/4832478\n",
      "--------------------------------------\n",
      "Result number: 6\n",
      "Absolut value of angle between query and result: 0.04325347271445922\n",
      "Question: Enums as constants or string comparisons\n",
      "Question site url: https://stackoverflow.com/questions/28054964\n",
      "--------------------------------------\n",
      "Result number: 7\n",
      "Absolut value of angle between query and result: 0.04319617116045413\n",
      "Question: Python-meep and Meep capability questions\n",
      "Question site url: https://stackoverflow.com/questions/17842991\n",
      "--------------------------------------\n",
      "Result number: 8\n",
      "Absolut value of angle between query and result: 0.042849014083612906\n",
      "Question: Should I optimise my python code like C++? Does it matter?\n",
      "Question site url: https://stackoverflow.com/questions/1353715\n",
      "--------------------------------------\n",
      "Result number: 9\n",
      "Absolut value of angle between query and result: 0.04274596745421505\n",
      "Question: Misspelling Variable Names. Best ways to avoid this sort of error?\n",
      "Question site url: https://stackoverflow.com/questions/15156022\n",
      "--------------------------------------\n",
      "Result number: 10\n",
      "Absolut value of angle between query and result: 0.04257251828035269\n",
      "Question: Overwriting default behavior for python operators\n",
      "Question site url: https://stackoverflow.com/questions/4030153\n",
      "--------------------------------------\n",
      "Result number: 11\n",
      "Absolut value of angle between query and result: 0.04251729534559694\n",
      "Question: Python assert statement and code reusability\n",
      "Question site url: https://stackoverflow.com/questions/10019043\n",
      "--------------------------------------\n",
      "Result number: 12\n",
      "Absolut value of angle between query and result: 0.04241131528321607\n",
      "Question: Debugging Ruby/Python/Groovy\n",
      "Question site url: https://stackoverflow.com/questions/1205343\n",
      "--------------------------------------\n",
      "Result number: 13\n",
      "Absolut value of angle between query and result: 0.042278863022890606\n",
      "Question: Python Function call every other time\n",
      "Question site url: https://stackoverflow.com/questions/20364820\n",
      "--------------------------------------\n",
      "Result number: 14\n",
      "Absolut value of angle between query and result: 0.04224651520992392\n",
      "Question: are 'optimized' .pyo files unsafe?\n",
      "Question site url: https://stackoverflow.com/questions/16976358\n",
      "--------------------------------------\n",
      "Result number: 15\n",
      "Absolut value of angle between query and result: 0.04218698427206183\n",
      "Question: What are equality operators and how many are there?\n",
      "Question site url: https://stackoverflow.com/questions/35835747\n",
      "--------------------------------------\n",
      "Result number: 16\n",
      "Absolut value of angle between query and result: 0.0421279338173805\n",
      "Question: Difference between operator and non-operator versions of Python set operations\n",
      "Question site url: https://stackoverflow.com/questions/9219137\n",
      "--------------------------------------\n",
      "Result number: 17\n",
      "Absolut value of angle between query and result: 0.04210159142203025\n",
      "Question: Necessity of an 'empty' else statement in Python\n",
      "Question site url: https://stackoverflow.com/questions/31575251\n",
      "--------------------------------------\n",
      "Result number: 18\n",
      "Absolut value of angle between query and result: 0.04162889180138141\n",
      "Question: Why assert is not largely used?\n",
      "Question site url: https://stackoverflow.com/questions/9097706\n",
      "--------------------------------------\n",
      "Result number: 19\n",
      "Absolut value of angle between query and result: 0.041562874290990925\n",
      "Question: checking/verifying python code\n",
      "Question site url: https://stackoverflow.com/questions/16915118\n",
      "--------------------------------------\n",
      "Result number: 20\n",
      "Absolut value of angle between query and result: 0.04156012985964984\n",
      "Question: python conditional coverage for subexpression\n",
      "Question site url: https://stackoverflow.com/questions/21151482\n",
      "--------------------------------------\n"
     ]
    }
   ],
   "execution_count": 15
  }
 ],
 "metadata": {
  "kernelspec": {
   "display_name": "Python 3",
   "language": "python",
   "name": "python3"
  },
  "language_info": {
   "codemirror_mode": {
    "name": "ipython",
    "version": 2
   },
   "file_extension": ".py",
   "mimetype": "text/x-python",
   "name": "python",
   "nbconvert_exporter": "python",
   "pygments_lexer": "ipython2",
   "version": "2.7.6"
  }
 },
 "nbformat": 4,
 "nbformat_minor": 5
}
