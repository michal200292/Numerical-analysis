{
 "cells": [
  {
   "cell_type": "code",
   "metadata": {
    "collapsed": true,
    "ExecuteTime": {
     "end_time": "2024-05-20T23:55:00.660090Z",
     "start_time": "2024-05-20T23:54:56.864481Z"
    }
   },
   "source": [
    "import pandas as pd\n",
    "from data_manager import Document\n",
    "import pickle\n",
    "from bs4 import BeautifulSoup"
   ],
   "outputs": [],
   "execution_count": 1
  },
  {
   "cell_type": "markdown",
   "source": [
    "# Dataset\n",
    "\n",
    "The ready dataset requiring slight preprocessing was downloaded from https://www.kaggle.com/datasets/stackoverflow/pythonquestions. It's a collection of questions and answers from Stack Overflow with the Python tag. The questions are from the years 2008 to 2016. The initial dataset contains over 600,000 examples.\n"
   ],
   "metadata": {
    "collapsed": false
   }
  },
  {
   "cell_type": "code",
   "source": [
    "questions_df = pd.read_csv(\"data/Questions.csv\", encoding=\"latin-1\")\n",
    "answers_df = pd.read_csv(\"data/Answers.csv\", encoding=\"latin-1\")\n",
    "tags_df = pd.read_csv(\"data/Tags.csv\", encoding=\"latin-1\")"
   ],
   "metadata": {
    "collapsed": false,
    "ExecuteTime": {
     "end_time": "2024-05-20T23:57:56.198474Z",
     "start_time": "2024-05-20T23:57:14.454532Z"
    }
   },
   "outputs": [],
   "execution_count": 3
  },
  {
   "cell_type": "code",
   "source": [
    "answers = {}\n",
    "for index, row in answers_df.iterrows():\n",
    "    p_id = row['ParentId']\n",
    "    if p_id not in answers:\n",
    "        answers[p_id] = [row]\n",
    "    else:\n",
    "        answers[p_id].append(row)"
   ],
   "metadata": {
    "collapsed": false,
    "ExecuteTime": {
     "end_time": "2024-05-20T23:59:09.120226Z",
     "start_time": "2024-05-20T23:58:05.105618Z"
    }
   },
   "outputs": [],
   "execution_count": 4
  },
  {
   "cell_type": "code",
   "source": [
    "tags = {}\n",
    "for index, row in tags_df.iterrows():\n",
    "    p_id = row['Id']\n",
    "    if p_id not in tags:\n",
    "        tags[p_id] = [row]\n",
    "    else:\n",
    "        tags[p_id].append(row)"
   ],
   "metadata": {
    "collapsed": false,
    "ExecuteTime": {
     "end_time": "2024-05-21T00:02:41.559575Z",
     "start_time": "2024-05-21T00:00:29.688198Z"
    }
   },
   "outputs": [],
   "execution_count": 5
  },
  {
   "cell_type": "code",
   "source": [
    "docs: list[Document] = []\n",
    "\n",
    "for index, row in questions_df.iterrows():\n",
    "    p_id = row['Id']\n",
    "    soup = BeautifulSoup(row['Body'], features='lxml')\n",
    "    txt = row['Title'] + \" \" + soup.text\n",
    "\n",
    "    answer_text = \"\"\n",
    "    if p_id in answers:\n",
    "        answer_text = \"\\n\".join([ans['Body'] for ans in answers[row['Id']]])\n",
    "        soup = BeautifulSoup(answer_text, features='lxml')\n",
    "        answer_text = soup.text + \" \"\n",
    "\n",
    "    if p_id in tags:\n",
    "        answer_text += \"\\n\".join([str(tag['Tag']) for tag in tags[row['Id']]])\n",
    "\n",
    "    txt += answer_text\n",
    "    docs.append(Document(row['Title'], row['Id'], txt))\n"
   ],
   "metadata": {
    "collapsed": false,
    "ExecuteTime": {
     "end_time": "2024-05-21T00:21:37.411179Z",
     "start_time": "2024-05-21T00:05:30.097849Z"
    }
   },
   "outputs": [],
   "execution_count": 7
  },
  {
   "cell_type": "code",
   "source": [
    "with open(\"data/RawDocuments.pickle\", \"wb\") as f:\n",
    "    for doc in docs:\n",
    "        pickle.dump(doc, f)"
   ],
   "metadata": {
    "collapsed": false,
    "ExecuteTime": {
     "end_time": "2024-05-21T00:24:02.786226Z",
     "start_time": "2024-05-21T00:21:37.464368Z"
    }
   },
   "outputs": [],
   "execution_count": 8
  }
 ],
 "metadata": {
  "kernelspec": {
   "display_name": "Python 3",
   "language": "python",
   "name": "python3"
  },
  "language_info": {
   "codemirror_mode": {
    "name": "ipython",
    "version": 2
   },
   "file_extension": ".py",
   "mimetype": "text/x-python",
   "name": "python",
   "nbconvert_exporter": "python",
   "pygments_lexer": "ipython2",
   "version": "2.7.6"
  }
 },
 "nbformat": 4,
 "nbformat_minor": 0
}
