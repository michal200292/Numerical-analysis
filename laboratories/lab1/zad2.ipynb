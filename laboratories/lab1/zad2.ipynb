{
 "cells": [
  {
   "cell_type": "code",
   "execution_count": 2,
   "metadata": {
    "collapsed": true
   },
   "outputs": [],
   "source": [
    "import numpy as np"
   ]
  },
  {
   "cell_type": "code",
   "execution_count": 3,
   "outputs": [],
   "source": [
    "N = pow(10, 7)\n",
    "m = np.random.uniform(0.1, 0.9)\n",
    "tab = [m for _ in range(N)]"
   ],
   "metadata": {
    "collapsed": false
   }
  },
  {
   "cell_type": "code",
   "execution_count": 9,
   "outputs": [
    {
     "name": "stdout",
     "output_type": "stream",
     "text": [
      "0.5562207923352694 5562207.923352694\n"
     ]
    }
   ],
   "source": [
    "print(m, N*m)\n",
    "actual_sum = N*m"
   ],
   "metadata": {
    "collapsed": false
   }
  },
  {
   "cell_type": "code",
   "execution_count": 8,
   "outputs": [],
   "source": [
    "def simple_sum():\n",
    "    acc = 0\n",
    "    for x in tab:\n",
    "        acc += x\n",
    "    return acc"
   ],
   "metadata": {
    "collapsed": false
   }
  },
  {
   "cell_type": "code",
   "execution_count": 7,
   "outputs": [],
   "source": [
    "def kahans_sum():\n",
    "    acc = 0\n",
    "    err = 0\n",
    "    for x in tab:\n",
    "        y = x - err\n",
    "        temp = acc + y\n",
    "        err = (temp - acc) - y\n",
    "        acc= temp\n",
    "    return acc\n"
   ],
   "metadata": {
    "collapsed": false
   }
  },
  {
   "cell_type": "code",
   "execution_count": 11,
   "outputs": [
    {
     "name": "stdout",
     "output_type": "stream",
     "text": [
      "Kahan\n",
      "Absolute error 0.0\n",
      "Relative error 0.0\n",
      "Simple\n",
      "Absolute error -0.0008040880784392357\n",
      "Relative error 1.4456275089309516e-10\n"
     ]
    }
   ],
   "source": [
    "k_sum = kahans_sum()\n",
    "print(\"Kahan\")\n",
    "print(\"Absolute error\", k_sum - actual_sum)\n",
    "print(\"Relative error\", abs(k_sum - actual_sum) / actual_sum)\n",
    "\n",
    "s_sum = simple_sum()\n",
    "print(\"Simple\")\n",
    "print(\"Absolute error\", s_sum - actual_sum)\n",
    "print(\"Relative error\", abs(s_sum - actual_sum) / actual_sum)"
   ],
   "metadata": {
    "collapsed": false
   }
  },
  {
   "cell_type": "code",
   "execution_count": 12,
   "outputs": [],
   "source": [
    "def recursive_sum(l = 0, r = N - 1):\n",
    "    if l == r:\n",
    "        return tab[l]\n",
    "    s = (l + r) // 2\n",
    "    return recursive_sum(l, s) + recursive_sum(s + 1, r)"
   ],
   "metadata": {
    "collapsed": false
   }
  },
  {
   "cell_type": "code",
   "execution_count": 13,
   "outputs": [
    {
     "name": "stdout",
     "output_type": "stream",
     "text": [
      "Metoda Kahana:  0.9284389019012451\n",
      "Metoda rekurencyjna:  2.660818576812744\n"
     ]
    }
   ],
   "source": [
    "from time import time\n",
    "t1 = time()\n",
    "kahans_sum()\n",
    "t1 = time() - t1\n",
    "print(\"Metoda Kahana: \", t1)\n",
    "t1 = time()\n",
    "recursive_sum()\n",
    "t1 = time() - t1\n",
    "print(\"Metoda rekurencyjna: \", t1)"
   ],
   "metadata": {
    "collapsed": false
   }
  }
 ],
 "metadata": {
  "kernelspec": {
   "display_name": "Python 3",
   "language": "python",
   "name": "python3"
  },
  "language_info": {
   "codemirror_mode": {
    "name": "ipython",
    "version": 2
   },
   "file_extension": ".py",
   "mimetype": "text/x-python",
   "name": "python",
   "nbconvert_exporter": "python",
   "pygments_lexer": "ipython2",
   "version": "2.7.6"
  }
 },
 "nbformat": 4,
 "nbformat_minor": 0
}
