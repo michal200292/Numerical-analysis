{
 "cells": [
  {
   "cell_type": "code",
   "execution_count": 1,
   "metadata": {
    "collapsed": true
   },
   "outputs": [],
   "source": [
    "from data_manager import Vector, TruncatedMatrix\n",
    "import json\n",
    "import pickle\n",
    "from math import log10 as log\n",
    "import numpy as np\n",
    "from scipy import sparse\n",
    "from sklearn.decomposition import TruncatedSVD"
   ]
  },
  {
   "cell_type": "markdown",
   "source": [
    "Wczytanie alfabetu i obiektów reprezentujących pojedynczy wektor 'Bag-of-words'"
   ],
   "metadata": {
    "collapsed": false
   }
  },
  {
   "cell_type": "code",
   "execution_count": 2,
   "outputs": [],
   "source": [
    "with open(\"data/alphabet.json\", \"r\", encoding=\"latin-1\") as f:\n",
    "    alphabet = json.load(f)"
   ],
   "metadata": {
    "collapsed": false
   }
  },
  {
   "cell_type": "code",
   "execution_count": 3,
   "outputs": [],
   "source": [
    "vectors: list[Vector] = []\n",
    "with open(\"data/Bag_of_words.pickle\", \"rb\") as f:\n",
    "    while True:\n",
    "        try:\n",
    "            vectors.append(pickle.load(f))\n",
    "        except EOFError:\n",
    "            break"
   ],
   "metadata": {
    "collapsed": false
   }
  },
  {
   "cell_type": "code",
   "execution_count": 15,
   "outputs": [
    {
     "name": "stdout",
     "output_type": "stream",
     "text": [
      "97308 182513\n"
     ]
    }
   ],
   "source": [
    "N = len(vectors)\n",
    "M = len(alphabet)\n",
    "print(M, N)"
   ],
   "metadata": {
    "collapsed": false
   }
  },
  {
   "cell_type": "markdown",
   "source": [
    "Tworzenie i zapisanie do pliku macierzy(normalnej i inverse document frequency)"
   ],
   "metadata": {
    "collapsed": false
   }
  },
  {
   "cell_type": "code",
   "execution_count": 5,
   "outputs": [],
   "source": [
    "word_frequency = {}\n",
    "for word in alphabet:\n",
    "    word_frequency[word] = 0\n",
    "\n",
    "for vec in vectors:\n",
    "    for word in vec.vector:\n",
    "        word_frequency[word] += 1\n",
    "\n",
    "idf = {}\n",
    "for word in word_frequency:\n",
    "    idf[word] = log(N / word_frequency[word])"
   ],
   "metadata": {
    "collapsed": false
   }
  },
  {
   "cell_type": "code",
   "execution_count": 31,
   "outputs": [],
   "source": [
    "def create_sparse_matrix(filename=\"sparse_matrix.npz\", use_idf=False):\n",
    "    no_of_entries = 0\n",
    "    for v in vectors:\n",
    "        no_of_entries += len(v.vector)\n",
    "\n",
    "    data = np.array([0 for _ in range(no_of_entries)], dtype=float)\n",
    "    row = np.array([0 for _ in range(no_of_entries)], dtype=int)\n",
    "    col = np.copy(row)\n",
    "\n",
    "    ind = 0\n",
    "    for i, v in enumerate(vectors):\n",
    "        start = ind\n",
    "        for w in v.vector:\n",
    "            data[ind] = v.vector[w] * (idf[w] if use_idf else 1)\n",
    "            row[ind] = alphabet[w]\n",
    "            col[ind] = i\n",
    "            ind += 1\n",
    "        data[start:ind] /= np.linalg.norm(data[start:ind])\n",
    "\n",
    "    matrix_to_save = sparse.csr_matrix((data, (row, col)), shape=(M, N), dtype=float)\n",
    "    sparse.save_npz(f\"data/matrices/{filename}\", matrix_to_save)"
   ],
   "metadata": {
    "collapsed": false
   }
  },
  {
   "cell_type": "code",
   "execution_count": null,
   "outputs": [],
   "source": [
    "create_sparse_matrix()"
   ],
   "metadata": {
    "collapsed": false,
    "pycharm": {
     "is_executing": true
    }
   }
  },
  {
   "cell_type": "code",
   "execution_count": 8,
   "outputs": [],
   "source": [
    "create_sparse_matrix(\"sparse_matrix_idf.npz\", use_idf=True)"
   ],
   "metadata": {
    "collapsed": false
   }
  },
  {
   "cell_type": "markdown",
   "source": [
    "Wczytanie macierzy z pliku"
   ],
   "metadata": {
    "collapsed": false
   }
  },
  {
   "cell_type": "code",
   "execution_count": 4,
   "outputs": [],
   "source": [
    "matrix = sparse.load_npz(\"data/matrices/sparse_matrix.npz\")\n",
    "matrix_idf = sparse.load_npz(\"data/matrices/sparse_matrix_idf.npz\")"
   ],
   "metadata": {
    "collapsed": false
   }
  },
  {
   "cell_type": "markdown",
   "source": [
    "Zapisanie obiektów reprezentujących rozkład SVD macierzy idf. Do rozkładu używałem tylko macierzy idf, gdyż miała dużo lepsze wyniki.\n",
    "Przy svd użyłem pięciu różnych wartości k( k to liczba wartości osobliwych): 20, 50, 100, 200, 400. Na lepsze przybliżenie nie pozwoliłby już RAM"
   ],
   "metadata": {
    "collapsed": false
   }
  },
  {
   "cell_type": "code",
   "execution_count": 11,
   "outputs": [],
   "source": [
    "def save_truncated_svd(truncation_level):\n",
    "    svd = TruncatedSVD(truncation_level).fit(matrix_idf)\n",
    "    u_s = svd.transform(matrix_idf)\n",
    "    sigma = svd.singular_values_\n",
    "    v = svd.components_\n",
    "    vector_lengths = np.linalg.norm(np.diag(sigma) @ v, axis=0)\n",
    "    svd_truncation_level = TruncatedMatrix(truncation_level, u_s, sigma, v, vector_lengths)\n",
    "    with open(f\"data/matrices/svd_matrix_{truncation_level}.pickle\", \"wb\") as file:\n",
    "        pickle.dump(svd_truncation_level, file)"
   ],
   "metadata": {
    "collapsed": false
   }
  },
  {
   "cell_type": "code",
   "execution_count": 12,
   "outputs": [],
   "source": [
    "def load_truncated_svd(truncation_level):\n",
    "    with open(f\"data/matrices/svd_matrix_{truncation_level}.pickle\", \"rb\") as file:\n",
    "        svd = pickle.load(file)\n",
    "    return svd"
   ],
   "metadata": {
    "collapsed": false
   }
  },
  {
   "cell_type": "code",
   "execution_count": 26,
   "outputs": [
    {
     "name": "stdout",
     "output_type": "stream",
     "text": [
      "CPU times: total: 26.3 s\n",
      "Wall time: 32.6 s\n"
     ]
    }
   ],
   "source": [
    "%%time\n",
    "save_truncated_svd(20)"
   ],
   "metadata": {
    "collapsed": false
   }
  },
  {
   "cell_type": "code",
   "execution_count": 58,
   "outputs": [
    {
     "name": "stdout",
     "output_type": "stream",
     "text": [
      "CPU times: total: 49.3 s\n",
      "Wall time: 55.8 s\n"
     ]
    }
   ],
   "source": [
    "%%time\n",
    "save_truncated_svd(50)"
   ],
   "metadata": {
    "collapsed": false
   }
  },
  {
   "cell_type": "code",
   "execution_count": 28,
   "outputs": [
    {
     "name": "stdout",
     "output_type": "stream",
     "text": [
      "CPU times: total: 1min 30s\n",
      "Wall time: 1min 38s\n"
     ]
    }
   ],
   "source": [
    "%%time\n",
    "save_truncated_svd(100)"
   ],
   "metadata": {
    "collapsed": false
   }
  },
  {
   "cell_type": "code",
   "execution_count": 29,
   "outputs": [
    {
     "name": "stdout",
     "output_type": "stream",
     "text": [
      "CPU times: total: 2min 15s\n",
      "Wall time: 2min 13s\n"
     ]
    }
   ],
   "source": [
    "%%time\n",
    "save_truncated_svd(200)"
   ],
   "metadata": {
    "collapsed": false
   }
  },
  {
   "cell_type": "code",
   "execution_count": 30,
   "outputs": [
    {
     "name": "stdout",
     "output_type": "stream",
     "text": [
      "CPU times: total: 4min 4s\n",
      "Wall time: 3min 33s\n"
     ]
    }
   ],
   "source": [
    "%%time\n",
    "save_truncated_svd(400)"
   ],
   "metadata": {
    "collapsed": false
   }
  },
  {
   "cell_type": "markdown",
   "source": [
    "### Funkcje obsługujące zapytanie"
   ],
   "metadata": {
    "collapsed": false
   }
  },
  {
   "cell_type": "code",
   "execution_count": 5,
   "outputs": [],
   "source": [
    "from nltk.tokenize import word_tokenize, sent_tokenize\n",
    "from nltk.corpus import stopwords\n",
    "from nltk.stem import SnowballStemmer\n",
    "from nltk.probability import FreqDist\n",
    "from string import punctuation\n",
    "from math import sqrt\n",
    "\n",
    "stop_words = set([word.lower() for word in stopwords.words('english')])\n",
    "snowball_stemmer = SnowballStemmer('english')\n",
    "\n",
    "def normalize_vector(vector):\n",
    "    length = 0\n",
    "    for w in vector:\n",
    "        length += vector[w]**2\n",
    "    length = sqrt(length)\n",
    "    for w in vector:\n",
    "        vector[w] /= length\n",
    "    return vector\n",
    "\n",
    "def process_text(text: str) -> dict[str, int]:\n",
    "    text = \"\".join(list(map(lambda c: \" \" if c in punctuation else c, text)))\n",
    "    words = [w.lower() for sentence in sent_tokenize(text) for w in word_tokenize(sentence)]\n",
    "    words = [w for w in words if w not in stop_words]\n",
    "    words = [snowball_stemmer.stem(w) for w in words]\n",
    "    words = [w for w in words if w in alphabet]\n",
    "    return normalize_vector(dict(FreqDist(words)))"
   ],
   "metadata": {
    "collapsed": false
   }
  },
  {
   "cell_type": "code",
   "execution_count": 6,
   "outputs": [],
   "source": [
    "def convert_to_sparse(query):\n",
    "    data = np.array([0 for _ in range(len(query))], dtype=float)\n",
    "    row = np.array([0 for _ in range(len(query))], dtype=int)\n",
    "    col = np.copy(row)\n",
    "    ind = 0\n",
    "    for w in query:\n",
    "        data[ind] = query[w]\n",
    "        col[ind] = alphabet[w]\n",
    "        ind += 1\n",
    "\n",
    "    return sparse.csr_matrix((data, (row, col)), shape=(1, M), dtype=float)\n",
    "\n",
    "def k_best_vectors(vector: sparse.csr_matrix):\n",
    "    best_values = np.sort(vector.todense(), axis=1)[:, ::-1]\n",
    "    best_indices = np.argsort(vector.todense(), axis=1)[:, ::-1]\n",
    "    return [(best_indices[0, i], best_values[0, i]) for i in range(k)]\n",
    "\n",
    "def find_closest_vectors(query):\n",
    "    sparse_query = convert_to_sparse(query)\n",
    "    return k_best_vectors(np.abs(sparse_query @ matrix))\n",
    "\n",
    "def find_closest_vectors_idf(query):\n",
    "    sparse_query = convert_to_sparse(query)\n",
    "    return k_best_vectors(np.abs(sparse_query @ matrix_idf))"
   ],
   "metadata": {
    "collapsed": false
   }
  },
  {
   "cell_type": "code",
   "execution_count": 7,
   "outputs": [],
   "source": [
    "def convert_to_dense(query):\n",
    "    data = np.array([0 for _ in range(M)], dtype=float)\n",
    "    for w in query:\n",
    "        data[alphabet[w]] = query[w]\n",
    "    return data\n",
    "\n",
    "def find_closest_vectors_svd(query, svd: TruncatedMatrix):\n",
    "    dense_query = convert_to_dense(query)\n",
    "    best = np.abs(((dense_query @ svd.U_S) @ svd.V) / svd.vector_lengths)\n",
    "    return list(zip(np.argsort(best)[::-1][:k], np.sort(best)[::-1][:k]))"
   ],
   "metadata": {
    "collapsed": false
   }
  },
  {
   "cell_type": "code",
   "execution_count": 8,
   "outputs": [],
   "source": [
    "def print_answers(query_text, function, *args):\n",
    "    q = process_text(query_text)\n",
    "    res = function(q, *args)\n",
    "    url = \"https://stackoverflow.com/questions/\"\n",
    "    for i, (ind, angle) in enumerate(res):\n",
    "        print(f\"Result number: {i + 1}\")\n",
    "        print(f\"Absolut value of angle between query and result: {angle}\")\n",
    "        print(f\"Question: {vectors[ind].question_title}\")\n",
    "        print(f\"Question site url: {url}{vectors[ind].question_id}\")\n",
    "        print(\"--------------------------------------\")"
   ],
   "metadata": {
    "collapsed": false
   }
  },
  {
   "cell_type": "markdown",
   "source": [
    "## Testowanie różnych wyszukiwarek"
   ],
   "metadata": {
    "collapsed": false
   }
  },
  {
   "cell_type": "markdown",
   "source": [
    "W tym przypadku k oznacza ile pierwszych wyników chce wyświetlić"
   ],
   "metadata": {
    "collapsed": false
   }
  },
  {
   "cell_type": "code",
   "execution_count": 18,
   "outputs": [],
   "source": [
    "k = 20"
   ],
   "metadata": {
    "collapsed": false
   }
  },
  {
   "cell_type": "markdown",
   "source": [
    "Porównanie wyszukiwarek bez svd( idf vs początkowa macierz bag-of-words)"
   ],
   "metadata": {
    "collapsed": false
   }
  },
  {
   "cell_type": "code",
   "execution_count": 38,
   "outputs": [],
   "source": [
    "question = \"What are generators\""
   ],
   "metadata": {
    "collapsed": false
   }
  },
  {
   "cell_type": "code",
   "execution_count": 39,
   "outputs": [
    {
     "name": "stdout",
     "output_type": "stream",
     "text": [
      "Result number: 1\n",
      "Absolut value of angle between query and result: 0.7598468303169561\n",
      "Question: How to check if an object is a generator object in python?\n",
      "Question site url: https://stackoverflow.com/questions/6416538\n",
      "--------------------------------------\n",
      "Result number: 2\n",
      "Absolut value of angle between query and result: 0.6980756725957802\n",
      "Question: Why do Python generator functions not have a syntactically different notation from 'regular' functions?\n",
      "Question site url: https://stackoverflow.com/questions/20182404\n",
      "--------------------------------------\n",
      "Result number: 3\n",
      "Absolut value of angle between query and result: 0.669251539707131\n",
      "Question: Generators and for loops in Python\n",
      "Question site url: https://stackoverflow.com/questions/29570348\n",
      "--------------------------------------\n",
      "Result number: 4\n",
      "Absolut value of angle between query and result: 0.6666666666666666\n",
      "Question: Redundant use of generators? (Python)\n",
      "Question site url: https://stackoverflow.com/questions/21025656\n",
      "--------------------------------------\n",
      "Result number: 5\n",
      "Absolut value of angle between query and result: 0.6583225748013584\n",
      "Question: In Keras model.fit_generator() method, what is the generator queue controlled parameter \"max_q_size\" used for?\n",
      "Question site url: https://stackoverflow.com/questions/36986815\n",
      "--------------------------------------\n",
      "Result number: 6\n",
      "Absolut value of angle between query and result: 0.6520506636966263\n",
      "Question: Can iterator be restored and can its value/status be assigned?\n",
      "Question site url: https://stackoverflow.com/questions/3211478\n",
      "--------------------------------------\n",
      "Result number: 7\n",
      "Absolut value of angle between query and result: 0.6467104783722535\n",
      "Question: deep-copying a generator in python\n",
      "Question site url: https://stackoverflow.com/questions/21315207\n",
      "--------------------------------------\n",
      "Result number: 8\n",
      "Absolut value of angle between query and result: 0.6285393610547089\n",
      "Question: How do I modify a generator in Python?\n",
      "Question site url: https://stackoverflow.com/questions/2421355\n",
      "--------------------------------------\n",
      "Result number: 9\n",
      "Absolut value of angle between query and result: 0.6169137089349245\n",
      "Question: What is meant by generations of gc in python?\n",
      "Question site url: https://stackoverflow.com/questions/31022017\n",
      "--------------------------------------\n",
      "Result number: 10\n",
      "Absolut value of angle between query and result: 0.6143046959620592\n",
      "Question: How do I know if a generator is empty from the start?\n",
      "Question site url: https://stackoverflow.com/questions/661603\n",
      "--------------------------------------\n",
      "Result number: 11\n",
      "Absolut value of angle between query and result: 0.6044118241203851\n",
      "Question: What are some techniques for code generation?\n",
      "Question site url: https://stackoverflow.com/questions/294520\n",
      "--------------------------------------\n",
      "Result number: 12\n",
      "Absolut value of angle between query and result: 0.5978565316465418\n",
      "Question: Python 3: perform additional calculation inside a generator\n",
      "Question site url: https://stackoverflow.com/questions/32018552\n",
      "--------------------------------------\n",
      "Result number: 13\n",
      "Absolut value of angle between query and result: 0.5955500003825581\n",
      "Question: Nested generator functions in python\n",
      "Question site url: https://stackoverflow.com/questions/2568396\n",
      "--------------------------------------\n",
      "Result number: 14\n",
      "Absolut value of angle between query and result: 0.5905707764204498\n",
      "Question: When is a context manager's __exit__ triggered when inside a generator?\n",
      "Question site url: https://stackoverflow.com/questions/19825106\n",
      "--------------------------------------\n",
      "Result number: 15\n",
      "Absolut value of angle between query and result: 0.590168890850654\n",
      "Question: In Python, is there any way to test a generator object to find out which generator created it?\n",
      "Question site url: https://stackoverflow.com/questions/22389566\n",
      "--------------------------------------\n",
      "Result number: 16\n",
      "Absolut value of angle between query and result: 0.5847497075981877\n",
      "Question: Assigning generator to dictionary directly throws StopIteration\n",
      "Question site url: https://stackoverflow.com/questions/22696319\n",
      "--------------------------------------\n",
      "Result number: 17\n",
      "Absolut value of angle between query and result: 0.5825439294326871\n",
      "Question: Indexing form the end of a generator\n",
      "Question site url: https://stackoverflow.com/questions/19213352\n",
      "--------------------------------------\n",
      "Result number: 18\n",
      "Absolut value of angle between query and result: 0.5819821145319836\n",
      "Question: Is a generator the callable? Which is the generator?\n",
      "Question site url: https://stackoverflow.com/questions/21982118\n",
      "--------------------------------------\n",
      "Result number: 19\n",
      "Absolut value of angle between query and result: 0.5810231609145591\n",
      "Question: Yield vs generator expression - different type returned\n",
      "Question site url: https://stackoverflow.com/questions/16780434\n",
      "--------------------------------------\n",
      "Result number: 20\n",
      "Absolut value of angle between query and result: 0.5770498006451069\n",
      "Question: python generator of generators?\n",
      "Question site url: https://stackoverflow.com/questions/19033401\n",
      "--------------------------------------\n"
     ]
    }
   ],
   "source": [
    "print_answers(question, find_closest_vectors) # bez idf"
   ],
   "metadata": {
    "collapsed": false
   }
  },
  {
   "cell_type": "code",
   "execution_count": 40,
   "outputs": [
    {
     "name": "stdout",
     "output_type": "stream",
     "text": [
      "Result number: 1\n",
      "Absolut value of angle between query and result: 0.7091160206580412\n",
      "Question: How to check if an object is a generator object in python?\n",
      "Question site url: https://stackoverflow.com/questions/6416538\n",
      "--------------------------------------\n",
      "Result number: 2\n",
      "Absolut value of angle between query and result: 0.6784665317958798\n",
      "Question: Yield vs generator expression - different type returned\n",
      "Question site url: https://stackoverflow.com/questions/16780434\n",
      "--------------------------------------\n",
      "Result number: 3\n",
      "Absolut value of angle between query and result: 0.6773114786418795\n",
      "Question: Generators and for loops in Python\n",
      "Question site url: https://stackoverflow.com/questions/29570348\n",
      "--------------------------------------\n",
      "Result number: 4\n",
      "Absolut value of angle between query and result: 0.6292592689864435\n",
      "Question: Can iterator be restored and can its value/status be assigned?\n",
      "Question site url: https://stackoverflow.com/questions/3211478\n",
      "--------------------------------------\n",
      "Result number: 5\n",
      "Absolut value of angle between query and result: 0.5892016527116402\n",
      "Question: Why do Python generator functions not have a syntactically different notation from 'regular' functions?\n",
      "Question site url: https://stackoverflow.com/questions/20182404\n",
      "--------------------------------------\n",
      "Result number: 6\n",
      "Absolut value of angle between query and result: 0.572744783611957\n",
      "Question: How do I know if a generator is empty from the start?\n",
      "Question site url: https://stackoverflow.com/questions/661603\n",
      "--------------------------------------\n",
      "Result number: 7\n",
      "Absolut value of angle between query and result: 0.5664175145456769\n",
      "Question: Nested generator functions in python\n",
      "Question site url: https://stackoverflow.com/questions/2568396\n",
      "--------------------------------------\n",
      "Result number: 8\n",
      "Absolut value of angle between query and result: 0.5486626071703257\n",
      "Question: Unexpected output in Python Generators\n",
      "Question site url: https://stackoverflow.com/questions/20662271\n",
      "--------------------------------------\n",
      "Result number: 9\n",
      "Absolut value of angle between query and result: 0.5248832976423226\n",
      "Question: deep-copying a generator in python\n",
      "Question site url: https://stackoverflow.com/questions/21315207\n",
      "--------------------------------------\n",
      "Result number: 10\n",
      "Absolut value of angle between query and result: 0.5133085518163194\n",
      "Question: python generator of generators?\n",
      "Question site url: https://stackoverflow.com/questions/19033401\n",
      "--------------------------------------\n",
      "Result number: 11\n",
      "Absolut value of angle between query and result: 0.5017858165357841\n",
      "Question: In Keras model.fit_generator() method, what is the generator queue controlled parameter \"max_q_size\" used for?\n",
      "Question site url: https://stackoverflow.com/questions/36986815\n",
      "--------------------------------------\n",
      "Result number: 12\n",
      "Absolut value of angle between query and result: 0.5004427570495088\n",
      "Question: Cannot include non-python files with setup.py\n",
      "Question site url: https://stackoverflow.com/questions/24291695\n",
      "--------------------------------------\n",
      "Result number: 13\n",
      "Absolut value of angle between query and result: 0.49415194367853893\n",
      "Question: How do I modify a generator in Python?\n",
      "Question site url: https://stackoverflow.com/questions/2421355\n",
      "--------------------------------------\n",
      "Result number: 14\n",
      "Absolut value of angle between query and result: 0.4867581033645682\n",
      "Question: Indexing form the end of a generator\n",
      "Question site url: https://stackoverflow.com/questions/19213352\n",
      "--------------------------------------\n",
      "Result number: 15\n",
      "Absolut value of angle between query and result: 0.4827500595842582\n",
      "Question: Why doesn't the Python interpreter implicitly create the generator?\n",
      "Question site url: https://stackoverflow.com/questions/17825357\n",
      "--------------------------------------\n",
      "Result number: 16\n",
      "Absolut value of angle between query and result: 0.47922186117782484\n",
      "Question: Python 3: perform additional calculation inside a generator\n",
      "Question site url: https://stackoverflow.com/questions/32018552\n",
      "--------------------------------------\n",
      "Result number: 17\n",
      "Absolut value of angle between query and result: 0.4786469713523969\n",
      "Question: Redundant use of generators? (Python)\n",
      "Question site url: https://stackoverflow.com/questions/21025656\n",
      "--------------------------------------\n",
      "Result number: 18\n",
      "Absolut value of angle between query and result: 0.47426662600099806\n",
      "Question: Reseting generator object in Python\n",
      "Question site url: https://stackoverflow.com/questions/1271320\n",
      "--------------------------------------\n",
      "Result number: 19\n",
      "Absolut value of angle between query and result: 0.4720943107229666\n",
      "Question: What can you use Python generator functions for?\n",
      "Question site url: https://stackoverflow.com/questions/102535\n",
      "--------------------------------------\n",
      "Result number: 20\n",
      "Absolut value of angle between query and result: 0.47121571516373806\n",
      "Question: What are some techniques for code generation?\n",
      "Question site url: https://stackoverflow.com/questions/294520\n",
      "--------------------------------------\n"
     ]
    }
   ],
   "source": [
    "print_answers(question, find_closest_vectors_idf) # idf"
   ],
   "metadata": {
    "collapsed": false
   }
  },
  {
   "cell_type": "markdown",
   "source": [
    "Nie było to zbyt trudne pytanie i odnosiło się do często pojawiającego się tematu, więc obie wyszukiwarki znalazły odpowiednie tematy"
   ],
   "metadata": {
    "collapsed": false
   }
  },
  {
   "cell_type": "code",
   "execution_count": 43,
   "outputs": [],
   "source": [
    "question = \"is python bytecode much faster than actual python\""
   ],
   "metadata": {
    "collapsed": false
   }
  },
  {
   "cell_type": "code",
   "execution_count": 44,
   "outputs": [
    {
     "name": "stdout",
     "output_type": "stream",
     "text": [
      "Result number: 1\n",
      "Absolut value of angle between query and result: 0.5954276895518561\n",
      "Question: matplotlib plt.show() crashes in mac\n",
      "Question site url: https://stackoverflow.com/questions/21616774\n",
      "--------------------------------------\n",
      "Result number: 2\n",
      "Absolut value of angle between query and result: 0.5901211295340861\n",
      "Question: Python/Pyside chrashes without error message\n",
      "Question site url: https://stackoverflow.com/questions/21048449\n",
      "--------------------------------------\n",
      "Result number: 3\n",
      "Absolut value of angle between query and result: 0.5838318806240852\n",
      "Question: Python 3.4 crashes when opening an image with PIL in tkinter\n",
      "Question site url: https://stackoverflow.com/questions/30436924\n",
      "--------------------------------------\n",
      "Result number: 4\n",
      "Absolut value of angle between query and result: 0.5768889424925572\n",
      "Question: python-crypto for OS X?\n",
      "Question site url: https://stackoverflow.com/questions/7251676\n",
      "--------------------------------------\n",
      "Result number: 5\n",
      "Absolut value of angle between query and result: 0.5604036826981951\n",
      "Question: What's the difference between homebrew python and caskroom python?\n",
      "Question site url: https://stackoverflow.com/questions/31639883\n",
      "--------------------------------------\n",
      "Result number: 6\n",
      "Absolut value of angle between query and result: 0.5590169943749473\n",
      "Question: WingIDE -- Python 2 and Python 3\n",
      "Question site url: https://stackoverflow.com/questions/12569076\n",
      "--------------------------------------\n",
      "Result number: 7\n",
      "Absolut value of angle between query and result: 0.5588189603623418\n",
      "Question: Comparing python -V output for Python version checking in bash\n",
      "Question site url: https://stackoverflow.com/questions/30251690\n",
      "--------------------------------------\n",
      "Result number: 8\n",
      "Absolut value of angle between query and result: 0.5541719940458663\n",
      "Question: How do I know whether to use Python 2 or Python 3?\n",
      "Question site url: https://stackoverflow.com/questions/20916990\n",
      "--------------------------------------\n",
      "Result number: 9\n",
      "Absolut value of angle between query and result: 0.5541176475147955\n",
      "Question: Compiling gVim with Python 3 support\n",
      "Question site url: https://stackoverflow.com/questions/2236171\n",
      "--------------------------------------\n",
      "Result number: 10\n",
      "Absolut value of angle between query and result: 0.5475490746428457\n",
      "Question: Python parser for Python-like language\n",
      "Question site url: https://stackoverflow.com/questions/9420400\n",
      "--------------------------------------\n",
      "Result number: 11\n",
      "Absolut value of angle between query and result: 0.5441268300867147\n",
      "Question: What version of Python should I use if I'm a new to Python?\n",
      "Question site url: https://stackoverflow.com/questions/2090820\n",
      "--------------------------------------\n",
      "Result number: 12\n",
      "Absolut value of angle between query and result: 0.5427253541292572\n",
      "Question: Python 3 with Emacs\n",
      "Question site url: https://stackoverflow.com/questions/3270729\n",
      "--------------------------------------\n",
      "Result number: 13\n",
      "Absolut value of angle between query and result: 0.5416666666666666\n",
      "Question: Python backtrace from C++ embedded in Python\n",
      "Question site url: https://stackoverflow.com/questions/22546240\n",
      "--------------------------------------\n",
      "Result number: 14\n",
      "Absolut value of angle between query and result: 0.5402816107625394\n",
      "Question: How do I get fluent in Python?\n",
      "Question site url: https://stackoverflow.com/questions/1507041\n",
      "--------------------------------------\n",
      "Result number: 15\n",
      "Absolut value of angle between query and result: 0.5397841295136604\n",
      "Question: What is the difference between active python and python?\n",
      "Question site url: https://stackoverflow.com/questions/4733252\n",
      "--------------------------------------\n",
      "Result number: 16\n",
      "Absolut value of angle between query and result: 0.5393962141710571\n",
      "Question: Build Boost with multiple Python versions\n",
      "Question site url: https://stackoverflow.com/questions/28830653\n",
      "--------------------------------------\n",
      "Result number: 17\n",
      "Absolut value of angle between query and result: 0.5369717479970103\n",
      "Question: Eliminating duplicate python versions installed on computer- Mac OS\n",
      "Question site url: https://stackoverflow.com/questions/26343510\n",
      "--------------------------------------\n",
      "Result number: 18\n",
      "Absolut value of angle between query and result: 0.5346403628611974\n",
      "Question: Calling python from a c++ program for distribution\n",
      "Question site url: https://stackoverflow.com/questions/49137\n",
      "--------------------------------------\n",
      "Result number: 19\n",
      "Absolut value of angle between query and result: 0.5344844134773152\n",
      "Question: Programming in Python vs. programming in Java\n",
      "Question site url: https://stackoverflow.com/questions/2447118\n",
      "--------------------------------------\n",
      "Result number: 20\n",
      "Absolut value of angle between query and result: 0.5334277814342181\n",
      "Question: Python Performance - have you ever had to rewrite in something else?\n",
      "Question site url: https://stackoverflow.com/questions/386655\n",
      "--------------------------------------\n"
     ]
    }
   ],
   "source": [
    "print_answers(question, find_closest_vectors) # bez idf"
   ],
   "metadata": {
    "collapsed": false
   }
  },
  {
   "cell_type": "code",
   "execution_count": 45,
   "outputs": [
    {
     "name": "stdout",
     "output_type": "stream",
     "text": [
      "Result number: 1\n",
      "Absolut value of angle between query and result: 0.2973842596679014\n",
      "Question: Python optimization through bytecode\n",
      "Question site url: https://stackoverflow.com/questions/20940935\n",
      "--------------------------------------\n",
      "Result number: 2\n",
      "Absolut value of angle between query and result: 0.24720598394111326\n",
      "Question: Python bytecode and .pyc file format specification\n",
      "Question site url: https://stackoverflow.com/questions/35229387\n",
      "--------------------------------------\n",
      "Result number: 3\n",
      "Absolut value of angle between query and result: 0.24010740836353553\n",
      "Question: How to validate Python bytecode?\n",
      "Question site url: https://stackoverflow.com/questions/23267970\n",
      "--------------------------------------\n",
      "Result number: 4\n",
      "Absolut value of angle between query and result: 0.2352181672133219\n",
      "Question: Is it easy to fully decompile python compiled(*.pyc) files?\n",
      "Question site url: https://stackoverflow.com/questions/3464326\n",
      "--------------------------------------\n",
      "Result number: 5\n",
      "Absolut value of angle between query and result: 0.23346676102134523\n",
      "Question: Python bytecode generated when multiprocessing Pool is called\n",
      "Question site url: https://stackoverflow.com/questions/21919563\n",
      "--------------------------------------\n",
      "Result number: 6\n",
      "Absolut value of angle between query and result: 0.23265528861325013\n",
      "Question: Debugging python bytecode when source is not available\n",
      "Question site url: https://stackoverflow.com/questions/32486204\n",
      "--------------------------------------\n",
      "Result number: 7\n",
      "Absolut value of angle between query and result: 0.2304447678237077\n",
      "Question: What does it mean when people say CPython is written in C?\n",
      "Question site url: https://stackoverflow.com/questions/17400805\n",
      "--------------------------------------\n",
      "Result number: 8\n",
      "Absolut value of angle between query and result: 0.2212192184893756\n",
      "Question: What is the main use of the Python built-in 'compile'?\n",
      "Question site url: https://stackoverflow.com/questions/17901080\n",
      "--------------------------------------\n",
      "Result number: 9\n",
      "Absolut value of angle between query and result: 0.22049070342072363\n",
      "Question: Given a python .pyc file, is there a tool that let me view the bytecode?\n",
      "Question site url: https://stackoverflow.com/questions/11141387\n",
      "--------------------------------------\n",
      "Result number: 10\n",
      "Absolut value of angle between query and result: 0.21789607040157122\n",
      "Question: Create Python bytecode from list of opcodes and arguments?\n",
      "Question site url: https://stackoverflow.com/questions/8972144\n",
      "--------------------------------------\n",
      "Result number: 11\n",
      "Absolut value of angle between query and result: 0.19755291802412292\n",
      "Question: How exactly is Python Bytecode Run in CPython?\n",
      "Question site url: https://stackoverflow.com/questions/19916729\n",
      "--------------------------------------\n",
      "Result number: 12\n",
      "Absolut value of angle between query and result: 0.19380826800764112\n",
      "Question: Is Python interpreted (like Javascript or PHP)?\n",
      "Question site url: https://stackoverflow.com/questions/745743\n",
      "--------------------------------------\n",
      "Result number: 13\n",
      "Absolut value of angle between query and result: 0.19327949179767392\n",
      "Question: Why python compile the source to bytecode before interpreting?\n",
      "Question site url: https://stackoverflow.com/questions/888100\n",
      "--------------------------------------\n",
      "Result number: 14\n",
      "Absolut value of angle between query and result: 0.19251570691982478\n",
      "Question: CPython is bytecode interpreter?\n",
      "Question site url: https://stackoverflow.com/questions/1644619\n",
      "--------------------------------------\n",
      "Result number: 15\n",
      "Absolut value of angle between query and result: 0.19073589936905552\n",
      "Question: How exactly does a python (django) request happen? does it have to reparse all the codebase?\n",
      "Question site url: https://stackoverflow.com/questions/3018690\n",
      "--------------------------------------\n",
      "Result number: 16\n",
      "Absolut value of angle between query and result: 0.18188897407364676\n",
      "Question: Why does Python provide locking mechanisms if it's subject to a GIL?\n",
      "Question site url: https://stackoverflow.com/questions/26873512\n",
      "--------------------------------------\n",
      "Result number: 17\n",
      "Absolut value of angle between query and result: 0.1778432692952323\n",
      "Question: Which is faster?\n",
      "Question site url: https://stackoverflow.com/questions/3047799\n",
      "--------------------------------------\n",
      "Result number: 18\n",
      "Absolut value of angle between query and result: 0.17687020851430474\n",
      "Question: Difference between loading time and running time in python?\n",
      "Question site url: https://stackoverflow.com/questions/6803126\n",
      "--------------------------------------\n",
      "Result number: 19\n",
      "Absolut value of angle between query and result: 0.17564246611928497\n",
      "Question: Python Practices To Enforce Bytecode Compilation? (.pyc)\n",
      "Question site url: https://stackoverflow.com/questions/6963695\n",
      "--------------------------------------\n",
      "Result number: 20\n",
      "Absolut value of angle between query and result: 0.16883024153883114\n",
      "Question: C++ or Python for an Extensive Math Program?\n",
      "Question site url: https://stackoverflow.com/questions/11625450\n",
      "--------------------------------------\n"
     ]
    }
   ],
   "source": [
    "print_answers(question, find_closest_vectors_idf) # idf"
   ],
   "metadata": {
    "collapsed": false
   }
  },
  {
   "cell_type": "markdown",
   "source": [
    "Jak widać wyszukiwarka bez idf zwróciła coś kompletnie niezwiązanego z tematem, a wartości kątów wynosiły ponad 0.5. W kilku innych wyszukiwaniach można było zauważyć podobne wyniki, gdy wyszukiwarka bez idf znajdywała dokumenty związane jedynie z najpopularniejszym słowem z danego zapytania. Dlatego przy svd używam jedynie wersji z idf."
   ],
   "metadata": {
    "collapsed": false
   }
  },
  {
   "cell_type": "markdown",
   "source": [
    "## Porównanie idf i svd dla różnych poziomów przybliżenia"
   ],
   "metadata": {
    "collapsed": false
   }
  },
  {
   "cell_type": "code",
   "execution_count": 61,
   "outputs": [],
   "source": [
    "question = \"best python library for data manipulation\""
   ],
   "metadata": {
    "collapsed": false
   }
  },
  {
   "cell_type": "code",
   "execution_count": 62,
   "outputs": [
    {
     "name": "stdout",
     "output_type": "stream",
     "text": [
      "Result number: 1\n",
      "Absolut value of angle between query and result: 0.269410662111676\n",
      "Question: What am I doing wrong? Python object instantiation keeping data from previous instantiation?\n",
      "Question site url: https://stackoverflow.com/questions/3161827\n",
      "--------------------------------------\n",
      "Result number: 2\n",
      "Absolut value of angle between query and result: 0.26185907178101075\n",
      "Question: Merging lines after condition\n",
      "Question site url: https://stackoverflow.com/questions/23803221\n",
      "--------------------------------------\n",
      "Result number: 3\n",
      "Absolut value of angle between query and result: 0.24871670250028527\n",
      "Question: Python and Postgresql\n",
      "Question site url: https://stackoverflow.com/questions/2905097\n",
      "--------------------------------------\n",
      "Result number: 4\n",
      "Absolut value of angle between query and result: 0.24602160276939075\n",
      "Question: Static library (.lib) to Python project\n",
      "Question site url: https://stackoverflow.com/questions/3668373\n",
      "--------------------------------------\n",
      "Result number: 5\n",
      "Absolut value of angle between query and result: 0.2391813805757707\n",
      "Question: creating new python objects seems to be the same object\n",
      "Question site url: https://stackoverflow.com/questions/7887193\n",
      "--------------------------------------\n",
      "Result number: 6\n",
      "Absolut value of angle between query and result: 0.23803748031351937\n",
      "Question: Fastest way to convert a dict's keys & values from `bytes` to `str` in python3\n",
      "Question site url: https://stackoverflow.com/questions/33137741\n",
      "--------------------------------------\n",
      "Result number: 7\n",
      "Absolut value of angle between query and result: 0.23674585419089392\n",
      "Question: What is the mechanism that allows Python monkey patching in this instance?\n",
      "Question site url: https://stackoverflow.com/questions/28185455\n",
      "--------------------------------------\n",
      "Result number: 8\n",
      "Absolut value of angle between query and result: 0.23401801823080065\n",
      "Question: My function doesn't return a value, can't figure out why\n",
      "Question site url: https://stackoverflow.com/questions/39156882\n",
      "--------------------------------------\n",
      "Result number: 9\n",
      "Absolut value of angle between query and result: 0.22817655902747538\n",
      "Question: Python library issue\n",
      "Question site url: https://stackoverflow.com/questions/8558165\n",
      "--------------------------------------\n",
      "Result number: 10\n",
      "Absolut value of angle between query and result: 0.22139086019496476\n",
      "Question: Memory error while slicing an array\n",
      "Question site url: https://stackoverflow.com/questions/13915381\n",
      "--------------------------------------\n",
      "Result number: 11\n",
      "Absolut value of angle between query and result: 0.22089948613933857\n",
      "Question: Should the order of import statements matter when importing a .so?\n",
      "Question site url: https://stackoverflow.com/questions/18155582\n",
      "--------------------------------------\n",
      "Result number: 12\n",
      "Absolut value of angle between query and result: 0.22028237174428134\n",
      "Question: How do I package for distribution a python module that uses a shared library?\n",
      "Question site url: https://stackoverflow.com/questions/24146840\n",
      "--------------------------------------\n",
      "Result number: 13\n",
      "Absolut value of angle between query and result: 0.21803084730034886\n",
      "Question: Python OOP __Add__ matrices together (Looping Problem)\n",
      "Question site url: https://stackoverflow.com/questions/5328684\n",
      "--------------------------------------\n",
      "Result number: 14\n",
      "Absolut value of angle between query and result: 0.2170421616332461\n",
      "Question: Python class inheritance - Base is modified by a subclass\n",
      "Question site url: https://stackoverflow.com/questions/36110966\n",
      "--------------------------------------\n",
      "Result number: 15\n",
      "Absolut value of angle between query and result: 0.21659144138488662\n",
      "Question: Is it correct to say that array in C++ or list in Python is a Class? A Data Structure? Or Both?\n",
      "Question site url: https://stackoverflow.com/questions/10860990\n",
      "--------------------------------------\n",
      "Result number: 16\n",
      "Absolut value of angle between query and result: 0.21478712176587286\n",
      "Question: \"writing a python binding\" vs \"using command-line directly\"\n",
      "Question site url: https://stackoverflow.com/questions/16786183\n",
      "--------------------------------------\n",
      "Result number: 17\n",
      "Absolut value of angle between query and result: 0.2140691970207041\n",
      "Question: Local collection of Python packages: best way to import them?\n",
      "Question site url: https://stackoverflow.com/questions/15026634\n",
      "--------------------------------------\n",
      "Result number: 18\n",
      "Absolut value of angle between query and result: 0.21146068181321534\n",
      "Question: How to clean up this string in python with strip?\n",
      "Question site url: https://stackoverflow.com/questions/31624429\n",
      "--------------------------------------\n",
      "Result number: 19\n",
      "Absolut value of angle between query and result: 0.20986225025681318\n",
      "Question: Remove a PyMongo SON Manipulator\n",
      "Question site url: https://stackoverflow.com/questions/25856743\n",
      "--------------------------------------\n",
      "Result number: 20\n",
      "Absolut value of angle between query and result: 0.20979601380615312\n",
      "Question: My thrift ./configure does not building python library\n",
      "Question site url: https://stackoverflow.com/questions/37672187\n",
      "--------------------------------------\n"
     ]
    }
   ],
   "source": [
    "print_answers(question, find_closest_vectors_idf) # idf"
   ],
   "metadata": {
    "collapsed": false
   }
  },
  {
   "cell_type": "code",
   "execution_count": 63,
   "outputs": [],
   "source": [
    "truncated_idf = load_truncated_svd(20)"
   ],
   "metadata": {
    "collapsed": false
   }
  },
  {
   "cell_type": "code",
   "execution_count": 64,
   "outputs": [
    {
     "name": "stdout",
     "output_type": "stream",
     "text": [
      "Result number: 1\n",
      "Absolut value of angle between query and result: 0.11265990558578547\n",
      "Question: TypeError: a bytes-like object is required, not 'Binary'\n",
      "Question site url: https://stackoverflow.com/questions/37511560\n",
      "--------------------------------------\n",
      "Result number: 2\n",
      "Absolut value of angle between query and result: 0.1123313855229737\n",
      "Question: PSD importation library that retains shapes as vectors?\n",
      "Question site url: https://stackoverflow.com/questions/26235480\n",
      "--------------------------------------\n",
      "Result number: 3\n",
      "Absolut value of angle between query and result: 0.11016458395384122\n",
      "Question: How to improve a XML import into mongodb?\n",
      "Question site url: https://stackoverflow.com/questions/21817941\n",
      "--------------------------------------\n",
      "Result number: 4\n",
      "Absolut value of angle between query and result: 0.10997001557042911\n",
      "Question: Python framework for implementing Open Data Protocol (OData) consumers & producers\n",
      "Question site url: https://stackoverflow.com/questions/7798432\n",
      "--------------------------------------\n",
      "Result number: 5\n",
      "Absolut value of angle between query and result: 0.10988921786085527\n",
      "Question: python library to read and write in RCFile\n",
      "Question site url: https://stackoverflow.com/questions/19753095\n",
      "--------------------------------------\n",
      "Result number: 6\n",
      "Absolut value of angle between query and result: 0.10943258099342845\n",
      "Question: Dump Twitter tweets from MongoDB to COSMOS\n",
      "Question site url: https://stackoverflow.com/questions/32287272\n",
      "--------------------------------------\n",
      "Result number: 7\n",
      "Absolut value of angle between query and result: 0.10938465664688052\n",
      "Question: HDF5 possible data corruption or loss?\n",
      "Question site url: https://stackoverflow.com/questions/35837243\n",
      "--------------------------------------\n",
      "Result number: 8\n",
      "Absolut value of angle between query and result: 0.10928668183505252\n",
      "Question: How can I speed up unpickling large objects if I have plenty of RAM?\n",
      "Question site url: https://stackoverflow.com/questions/2766685\n",
      "--------------------------------------\n",
      "Result number: 9\n",
      "Absolut value of angle between query and result: 0.10896450809689767\n",
      "Question: Efficient transfer protocol for mobile equipment\n",
      "Question site url: https://stackoverflow.com/questions/5523889\n",
      "--------------------------------------\n",
      "Result number: 10\n",
      "Absolut value of angle between query and result: 0.10894122909282514\n",
      "Question: Matlab output format that Python can consume\n",
      "Question site url: https://stackoverflow.com/questions/20221165\n",
      "--------------------------------------\n",
      "Result number: 11\n",
      "Absolut value of angle between query and result: 0.10891247571156272\n",
      "Question: Factor Loadings using sklearn\n",
      "Question site url: https://stackoverflow.com/questions/21217710\n",
      "--------------------------------------\n",
      "Result number: 12\n",
      "Absolut value of angle between query and result: 0.10872743362344911\n",
      "Question: Replace generic name of s3 object put by data pipeline\n",
      "Question site url: https://stackoverflow.com/questions/33679935\n",
      "--------------------------------------\n",
      "Result number: 13\n",
      "Absolut value of angle between query and result: 0.10842128347668963\n",
      "Question: parsing age of empires game record files(.mgx)\n",
      "Question site url: https://stackoverflow.com/questions/29690791\n",
      "--------------------------------------\n",
      "Result number: 14\n",
      "Absolut value of angle between query and result: 0.10830710819008381\n",
      "Question: Python LZMA : Compressed data ended before the end-of-stream marker was reached\n",
      "Question site url: https://stackoverflow.com/questions/37400583\n",
      "--------------------------------------\n",
      "Result number: 15\n",
      "Absolut value of angle between query and result: 0.10821396805711171\n",
      "Question: Similar .rdata functionality in Python?\n",
      "Question site url: https://stackoverflow.com/questions/8773074\n",
      "--------------------------------------\n",
      "Result number: 16\n",
      "Absolut value of angle between query and result: 0.10799779178028213\n",
      "Question: How to save in openpyxl without losing formulae?\n",
      "Question site url: https://stackoverflow.com/questions/32772954\n",
      "--------------------------------------\n",
      "Result number: 17\n",
      "Absolut value of angle between query and result: 0.10798761028505424\n",
      "Question: What is a good storage candidate for soft-realtime data acquisition under Linux?\n",
      "Question site url: https://stackoverflow.com/questions/13084686\n",
      "--------------------------------------\n",
      "Result number: 18\n",
      "Absolut value of angle between query and result: 0.10787607077708143\n",
      "Question: How can I use the Python io module to build a memory-resident data structure?\n",
      "Question site url: https://stackoverflow.com/questions/11804502\n",
      "--------------------------------------\n",
      "Result number: 19\n",
      "Absolut value of angle between query and result: 0.10771336056017858\n",
      "Question: Why I can't use zlib to decompress string like gzip's style\n",
      "Question site url: https://stackoverflow.com/questions/5879759\n",
      "--------------------------------------\n",
      "Result number: 20\n",
      "Absolut value of angle between query and result: 0.10762086878740607\n",
      "Question: Adding payload in packet (scapy)\n",
      "Question site url: https://stackoverflow.com/questions/6605118\n",
      "--------------------------------------\n"
     ]
    }
   ],
   "source": [
    "print_answers(question, find_closest_vectors_svd, truncated_idf)"
   ],
   "metadata": {
    "collapsed": false
   }
  },
  {
   "cell_type": "markdown",
   "source": [
    "Przybliżenie rzędu 20 okazało się zdecydowanie za małe, zachowywało zbyt mało informacji o początkowej macierzy i zwracało bardzo losowe wyniki. W większości przypadków było gorsze niż używanie zwykłej macierzy"
   ],
   "metadata": {
    "collapsed": false
   }
  },
  {
   "cell_type": "code",
   "execution_count": 65,
   "outputs": [
    {
     "name": "stdout",
     "output_type": "stream",
     "text": [
      "Result number: 1\n",
      "Absolut value of angle between query and result: 0.1311898341503871\n",
      "Question: How much RAM does data take up?\n",
      "Question site url: https://stackoverflow.com/questions/20915200\n",
      "--------------------------------------\n",
      "Result number: 2\n",
      "Absolut value of angle between query and result: 0.13075787316126958\n",
      "Question: Performance comparison of Thrift, Protocol Buffers, JSON, EJB, other?\n",
      "Question site url: https://stackoverflow.com/questions/296650\n",
      "--------------------------------------\n",
      "Result number: 3\n",
      "Absolut value of angle between query and result: 0.13001187749941215\n",
      "Question: What is a good storage candidate for soft-realtime data acquisition under Linux?\n",
      "Question site url: https://stackoverflow.com/questions/13084686\n",
      "--------------------------------------\n",
      "Result number: 4\n",
      "Absolut value of angle between query and result: 0.12882446132758835\n",
      "Question: How can I use the Python io module to build a memory-resident data structure?\n",
      "Question site url: https://stackoverflow.com/questions/11804502\n",
      "--------------------------------------\n",
      "Result number: 5\n",
      "Absolut value of angle between query and result: 0.12845145852309897\n",
      "Question: How to exchange binary structured data over a stream for C++, Java and Python?\n",
      "Question site url: https://stackoverflow.com/questions/22891204\n",
      "--------------------------------------\n",
      "Result number: 6\n",
      "Absolut value of angle between query and result: 0.1282933279134259\n",
      "Question: Dump Twitter tweets from MongoDB to COSMOS\n",
      "Question site url: https://stackoverflow.com/questions/32287272\n",
      "--------------------------------------\n",
      "Result number: 7\n",
      "Absolut value of angle between query and result: 0.12824695039142556\n",
      "Question: Experience with using h5py to do analytical work on big data in Python?\n",
      "Question site url: https://stackoverflow.com/questions/4871670\n",
      "--------------------------------------\n",
      "Result number: 8\n",
      "Absolut value of angle between query and result: 0.12802841325540087\n",
      "Question: python library to read and write in RCFile\n",
      "Question site url: https://stackoverflow.com/questions/19753095\n",
      "--------------------------------------\n",
      "Result number: 9\n",
      "Absolut value of angle between query and result: 0.1279807651973808\n",
      "Question: How to handle large memory footprint in Python?\n",
      "Question site url: https://stackoverflow.com/questions/9071031\n",
      "--------------------------------------\n",
      "Result number: 10\n",
      "Absolut value of angle between query and result: 0.12764552047085392\n",
      "Question: Does Python have a rope data structure?\n",
      "Question site url: https://stackoverflow.com/questions/17005551\n",
      "--------------------------------------\n",
      "Result number: 11\n",
      "Absolut value of angle between query and result: 0.12731419798884683\n",
      "Question: Efficient transfer protocol for mobile equipment\n",
      "Question site url: https://stackoverflow.com/questions/5523889\n",
      "--------------------------------------\n",
      "Result number: 12\n",
      "Absolut value of angle between query and result: 0.1272440815748548\n",
      "Question: Is there a good and easy way to visualize high dimensional data?\n",
      "Question site url: https://stackoverflow.com/questions/5779011\n",
      "--------------------------------------\n",
      "Result number: 13\n",
      "Absolut value of angle between query and result: 0.12713167203105696\n",
      "Question: HDF5 possible data corruption or loss?\n",
      "Question site url: https://stackoverflow.com/questions/35837243\n",
      "--------------------------------------\n",
      "Result number: 14\n",
      "Absolut value of angle between query and result: 0.12687361000515351\n",
      "Question: Storing 6 billion floats for easy access in files\n",
      "Question site url: https://stackoverflow.com/questions/35634339\n",
      "--------------------------------------\n",
      "Result number: 15\n",
      "Absolut value of angle between query and result: 0.12673763081482242\n",
      "Question: Python twisted asynchronous write using deferred\n",
      "Question site url: https://stackoverflow.com/questions/3250327\n",
      "--------------------------------------\n",
      "Result number: 16\n",
      "Absolut value of angle between query and result: 0.1267218366962735\n",
      "Question: Why I can't use zlib to decompress string like gzip's style\n",
      "Question site url: https://stackoverflow.com/questions/5879759\n",
      "--------------------------------------\n",
      "Result number: 17\n",
      "Absolut value of angle between query and result: 0.12637010228259088\n",
      "Question: What available Python modules are there to save-and-load data?\n",
      "Question site url: https://stackoverflow.com/questions/8894075\n",
      "--------------------------------------\n",
      "Result number: 18\n",
      "Absolut value of angle between query and result: 0.12632376779631227\n",
      "Question: Differences when writing code for ARM vs x86?\n",
      "Question site url: https://stackoverflow.com/questions/24116662\n",
      "--------------------------------------\n",
      "Result number: 19\n",
      "Absolut value of angle between query and result: 0.12597763519750219\n",
      "Question: NoSql With My Own Custom Binary Files?\n",
      "Question site url: https://stackoverflow.com/questions/5560523\n",
      "--------------------------------------\n",
      "Result number: 20\n",
      "Absolut value of angle between query and result: 0.12558375303015967\n",
      "Question: PSD importation library that retains shapes as vectors?\n",
      "Question site url: https://stackoverflow.com/questions/26235480\n",
      "--------------------------------------\n"
     ]
    }
   ],
   "source": [
    "truncated_idf = load_truncated_svd(50)\n",
    "print_answers(question, find_closest_vectors_svd, truncated_idf)"
   ],
   "metadata": {
    "collapsed": false
   }
  },
  {
   "cell_type": "code",
   "execution_count": 66,
   "outputs": [
    {
     "name": "stdout",
     "output_type": "stream",
     "text": [
      "Result number: 1\n",
      "Absolut value of angle between query and result: 0.21204183809173244\n",
      "Question: Does Python have a rope data structure?\n",
      "Question site url: https://stackoverflow.com/questions/17005551\n",
      "--------------------------------------\n",
      "Result number: 2\n",
      "Absolut value of angle between query and result: 0.2070540966568405\n",
      "Question: ETL using Python\n",
      "Question site url: https://stackoverflow.com/questions/3762199\n",
      "--------------------------------------\n",
      "Result number: 3\n",
      "Absolut value of angle between query and result: 0.19903037108342217\n",
      "Question: List of big-O analysis for Python datastructures\n",
      "Question site url: https://stackoverflow.com/questions/4755221\n",
      "--------------------------------------\n",
      "Result number: 4\n",
      "Absolut value of angle between query and result: 0.1949248024761922\n",
      "Question: Efficient transfer protocol for mobile equipment\n",
      "Question site url: https://stackoverflow.com/questions/5523889\n",
      "--------------------------------------\n",
      "Result number: 5\n",
      "Absolut value of angle between query and result: 0.191964115485366\n",
      "Question: HDF5 possible data corruption or loss?\n",
      "Question site url: https://stackoverflow.com/questions/35837243\n",
      "--------------------------------------\n",
      "Result number: 6\n",
      "Absolut value of angle between query and result: 0.18911411981566817\n",
      "Question: General techniques to work with huge amounts of data on a non-super computer\n",
      "Question site url: https://stackoverflow.com/questions/7114849\n",
      "--------------------------------------\n",
      "Result number: 7\n",
      "Absolut value of angle between query and result: 0.188948227494086\n",
      "Question: Editing a pandas script to ignore but not remove data then match & updating + comparing to prevent wasteful saves + slicing data to match with?\n",
      "Question site url: https://stackoverflow.com/questions/19938598\n",
      "--------------------------------------\n",
      "Result number: 8\n",
      "Absolut value of angle between query and result: 0.18482026727949732\n",
      "Question: How can I use the Python io module to build a memory-resident data structure?\n",
      "Question site url: https://stackoverflow.com/questions/11804502\n",
      "--------------------------------------\n",
      "Result number: 9\n",
      "Absolut value of angle between query and result: 0.18339640195910853\n",
      "Question: How much RAM does data take up?\n",
      "Question site url: https://stackoverflow.com/questions/20915200\n",
      "--------------------------------------\n",
      "Result number: 10\n",
      "Absolut value of angle between query and result: 0.18297613026577222\n",
      "Question: Experience with using h5py to do analytical work on big data in Python?\n",
      "Question site url: https://stackoverflow.com/questions/4871670\n",
      "--------------------------------------\n",
      "Result number: 11\n",
      "Absolut value of angle between query and result: 0.1813581573182466\n",
      "Question: Data structures with Python\n",
      "Question site url: https://stackoverflow.com/questions/9091252\n",
      "--------------------------------------\n",
      "Result number: 12\n",
      "Absolut value of angle between query and result: 0.18111557735901881\n",
      "Question: Storing and Processing Large Amounts of Temporal-Spatial Data\n",
      "Question site url: https://stackoverflow.com/questions/5353697\n",
      "--------------------------------------\n",
      "Result number: 13\n",
      "Absolut value of angle between query and result: 0.1810074838437001\n",
      "Question: Memory error while slicing an array\n",
      "Question site url: https://stackoverflow.com/questions/13915381\n",
      "--------------------------------------\n",
      "Result number: 14\n",
      "Absolut value of angle between query and result: 0.18093924817279122\n",
      "Question: Python LZMA : Compressed data ended before the end-of-stream marker was reached\n",
      "Question site url: https://stackoverflow.com/questions/37400583\n",
      "--------------------------------------\n",
      "Result number: 15\n",
      "Absolut value of angle between query and result: 0.18079389374360275\n",
      "Question: What is a good storage candidate for soft-realtime data acquisition under Linux?\n",
      "Question site url: https://stackoverflow.com/questions/13084686\n",
      "--------------------------------------\n",
      "Result number: 16\n",
      "Absolut value of angle between query and result: 0.1807611571269663\n",
      "Question: How to handle large memory footprint in Python?\n",
      "Question site url: https://stackoverflow.com/questions/9071031\n",
      "--------------------------------------\n",
      "Result number: 17\n",
      "Absolut value of angle between query and result: 0.17969173306524172\n",
      "Question: PSD importation library that retains shapes as vectors?\n",
      "Question site url: https://stackoverflow.com/questions/26235480\n",
      "--------------------------------------\n",
      "Result number: 18\n",
      "Absolut value of angle between query and result: 0.17945542111029794\n",
      "Question: Data persistency of scientific simulation data, Mongodb + HDF5?\n",
      "Question site url: https://stackoverflow.com/questions/8998564\n",
      "--------------------------------------\n",
      "Result number: 19\n",
      "Absolut value of angle between query and result: 0.17929334516299958\n",
      "Question: Is there a good and easy way to visualize high dimensional data?\n",
      "Question site url: https://stackoverflow.com/questions/5779011\n",
      "--------------------------------------\n",
      "Result number: 20\n",
      "Absolut value of angle between query and result: 0.17755570832204196\n",
      "Question: no-sql database for document sizes over 32 MB?\n",
      "Question site url: https://stackoverflow.com/questions/12090204\n",
      "--------------------------------------\n"
     ]
    }
   ],
   "source": [
    "truncated_idf = load_truncated_svd(100)\n",
    "print_answers(question, find_closest_vectors_svd, truncated_idf)"
   ],
   "metadata": {
    "collapsed": false
   }
  },
  {
   "cell_type": "markdown",
   "source": [
    "Wyniki dla przybliżeń rzędu 50 i 100 zdawały się już bardziej odnosić do tematu"
   ],
   "metadata": {
    "collapsed": false
   }
  },
  {
   "cell_type": "code",
   "execution_count": 67,
   "outputs": [
    {
     "name": "stdout",
     "output_type": "stream",
     "text": [
      "Result number: 1\n",
      "Absolut value of angle between query and result: 0.33632012569777553\n",
      "Question: Does Python have a rope data structure?\n",
      "Question site url: https://stackoverflow.com/questions/17005551\n",
      "--------------------------------------\n",
      "Result number: 2\n",
      "Absolut value of angle between query and result: 0.33164493449974186\n",
      "Question: Editing a pandas script to ignore but not remove data then match & updating + comparing to prevent wasteful saves + slicing data to match with?\n",
      "Question site url: https://stackoverflow.com/questions/19938598\n",
      "--------------------------------------\n",
      "Result number: 3\n",
      "Absolut value of angle between query and result: 0.31450157146991625\n",
      "Question: My function doesn't return a value, can't figure out why\n",
      "Question site url: https://stackoverflow.com/questions/39156882\n",
      "--------------------------------------\n",
      "Result number: 4\n",
      "Absolut value of angle between query and result: 0.304196318327199\n",
      "Question: Memory error while slicing an array\n",
      "Question site url: https://stackoverflow.com/questions/13915381\n",
      "--------------------------------------\n",
      "Result number: 5\n",
      "Absolut value of angle between query and result: 0.30205631816722367\n",
      "Question: List and += operation\n",
      "Question site url: https://stackoverflow.com/questions/33950163\n",
      "--------------------------------------\n",
      "Result number: 6\n",
      "Absolut value of angle between query and result: 0.2940355694828628\n",
      "Question: ETL using Python\n",
      "Question site url: https://stackoverflow.com/questions/3762199\n",
      "--------------------------------------\n",
      "Result number: 7\n",
      "Absolut value of angle between query and result: 0.29324267140774424\n",
      "Question: Normalize PCA with scikit-learn when data is split\n",
      "Question site url: https://stackoverflow.com/questions/27646915\n",
      "--------------------------------------\n",
      "Result number: 8\n",
      "Absolut value of angle between query and result: 0.28993023145938873\n",
      "Question: Turning nested curly braces into a dict python\n",
      "Question site url: https://stackoverflow.com/questions/35155425\n",
      "--------------------------------------\n",
      "Result number: 9\n",
      "Absolut value of angle between query and result: 0.28718736673167905\n",
      "Question: List of big-O analysis for Python datastructures\n",
      "Question site url: https://stackoverflow.com/questions/4755221\n",
      "--------------------------------------\n",
      "Result number: 10\n",
      "Absolut value of angle between query and result: 0.28519212950937617\n",
      "Question: how to implement 'daisychaining' of pluggable function in python?\n",
      "Question site url: https://stackoverflow.com/questions/10249121\n",
      "--------------------------------------\n",
      "Result number: 11\n",
      "Absolut value of angle between query and result: 0.2849961683181698\n",
      "Question: Python: Code for VHDL Code Generator\n",
      "Question site url: https://stackoverflow.com/questions/4967091\n",
      "--------------------------------------\n",
      "Result number: 12\n",
      "Absolut value of angle between query and result: 0.2848923744665334\n",
      "Question: Data structures with Python\n",
      "Question site url: https://stackoverflow.com/questions/9091252\n",
      "--------------------------------------\n",
      "Result number: 13\n",
      "Absolut value of angle between query and result: 0.28427067151267443\n",
      "Question: HDF5 possible data corruption or loss?\n",
      "Question site url: https://stackoverflow.com/questions/35837243\n",
      "--------------------------------------\n",
      "Result number: 14\n",
      "Absolut value of angle between query and result: 0.2818969984454869\n",
      "Question: Extracting only interesting columns from ASCII table\n",
      "Question site url: https://stackoverflow.com/questions/11466604\n",
      "--------------------------------------\n",
      "Result number: 15\n",
      "Absolut value of angle between query and result: 0.281740918557543\n",
      "Question: Is \"import\"-ing data pythonic?\n",
      "Question site url: https://stackoverflow.com/questions/6794241\n",
      "--------------------------------------\n",
      "Result number: 16\n",
      "Absolut value of angle between query and result: 0.27927171609600315\n",
      "Question: RethinkDB losing data after restarting server\n",
      "Question site url: https://stackoverflow.com/questions/28329352\n",
      "--------------------------------------\n",
      "Result number: 17\n",
      "Absolut value of angle between query and result: 0.27909265596828314\n",
      "Question: Is there a good and easy way to visualize high dimensional data?\n",
      "Question site url: https://stackoverflow.com/questions/5779011\n",
      "--------------------------------------\n",
      "Result number: 18\n",
      "Absolut value of angle between query and result: 0.27820810897373066\n",
      "Question: Fastest way to convert a dict's keys & values from `bytes` to `str` in python3\n",
      "Question site url: https://stackoverflow.com/questions/33137741\n",
      "--------------------------------------\n",
      "Result number: 19\n",
      "Absolut value of angle between query and result: 0.2759284352752503\n",
      "Question: matplotlib hist while ignoring a particular no data value\n",
      "Question site url: https://stackoverflow.com/questions/8039276\n",
      "--------------------------------------\n",
      "Result number: 20\n",
      "Absolut value of angle between query and result: 0.27300276972406445\n",
      "Question: post data using python-requests\n",
      "Question site url: https://stackoverflow.com/questions/33955036\n",
      "--------------------------------------\n"
     ]
    }
   ],
   "source": [
    "truncated_idf = load_truncated_svd(200)\n",
    "print_answers(question, find_closest_vectors_svd, truncated_idf)"
   ],
   "metadata": {
    "collapsed": false
   }
  },
  {
   "cell_type": "code",
   "execution_count": 68,
   "outputs": [
    {
     "name": "stdout",
     "output_type": "stream",
     "text": [
      "Result number: 1\n",
      "Absolut value of angle between query and result: 0.37596041565212107\n",
      "Question: Editing a pandas script to ignore but not remove data then match & updating + comparing to prevent wasteful saves + slicing data to match with?\n",
      "Question site url: https://stackoverflow.com/questions/19938598\n",
      "--------------------------------------\n",
      "Result number: 2\n",
      "Absolut value of angle between query and result: 0.3645996003363533\n",
      "Question: Does Python have a rope data structure?\n",
      "Question site url: https://stackoverflow.com/questions/17005551\n",
      "--------------------------------------\n",
      "Result number: 3\n",
      "Absolut value of angle between query and result: 0.3551919851016043\n",
      "Question: List and += operation\n",
      "Question site url: https://stackoverflow.com/questions/33950163\n",
      "--------------------------------------\n",
      "Result number: 4\n",
      "Absolut value of angle between query and result: 0.3391932552025241\n",
      "Question: Memory error while slicing an array\n",
      "Question site url: https://stackoverflow.com/questions/13915381\n",
      "--------------------------------------\n",
      "Result number: 5\n",
      "Absolut value of angle between query and result: 0.33152710477073877\n",
      "Question: List of big-O analysis for Python datastructures\n",
      "Question site url: https://stackoverflow.com/questions/4755221\n",
      "--------------------------------------\n",
      "Result number: 6\n",
      "Absolut value of angle between query and result: 0.33024930379986206\n",
      "Question: My function doesn't return a value, can't figure out why\n",
      "Question site url: https://stackoverflow.com/questions/39156882\n",
      "--------------------------------------\n",
      "Result number: 7\n",
      "Absolut value of angle between query and result: 0.3250116435552449\n",
      "Question: Extracting only interesting columns from ASCII table\n",
      "Question site url: https://stackoverflow.com/questions/11466604\n",
      "--------------------------------------\n",
      "Result number: 8\n",
      "Absolut value of angle between query and result: 0.3234323002777165\n",
      "Question: Data structures with Python\n",
      "Question site url: https://stackoverflow.com/questions/9091252\n",
      "--------------------------------------\n",
      "Result number: 9\n",
      "Absolut value of angle between query and result: 0.3211039030517173\n",
      "Question: Turning nested curly braces into a dict python\n",
      "Question site url: https://stackoverflow.com/questions/35155425\n",
      "--------------------------------------\n",
      "Result number: 10\n",
      "Absolut value of angle between query and result: 0.32053106461499775\n",
      "Question: creating new python objects seems to be the same object\n",
      "Question site url: https://stackoverflow.com/questions/7887193\n",
      "--------------------------------------\n",
      "Result number: 11\n",
      "Absolut value of angle between query and result: 0.3157745761431832\n",
      "Question: how to implement 'daisychaining' of pluggable function in python?\n",
      "Question site url: https://stackoverflow.com/questions/10249121\n",
      "--------------------------------------\n",
      "Result number: 12\n",
      "Absolut value of angle between query and result: 0.31541300824519325\n",
      "Question: Python: Code for VHDL Code Generator\n",
      "Question site url: https://stackoverflow.com/questions/4967091\n",
      "--------------------------------------\n",
      "Result number: 13\n",
      "Absolut value of angle between query and result: 0.3093391490983703\n",
      "Question: Is \"import\"-ing data pythonic?\n",
      "Question site url: https://stackoverflow.com/questions/6794241\n",
      "--------------------------------------\n",
      "Result number: 14\n",
      "Absolut value of angle between query and result: 0.30860310031436333\n",
      "Question: Fastest way to convert a dict's keys & values from `bytes` to `str` in python3\n",
      "Question site url: https://stackoverflow.com/questions/33137741\n",
      "--------------------------------------\n",
      "Result number: 15\n",
      "Absolut value of angle between query and result: 0.3070427432133721\n",
      "Question: Normalize PCA with scikit-learn when data is split\n",
      "Question site url: https://stackoverflow.com/questions/27646915\n",
      "--------------------------------------\n",
      "Result number: 16\n",
      "Absolut value of angle between query and result: 0.3059161813020364\n",
      "Question: ETL using Python\n",
      "Question site url: https://stackoverflow.com/questions/3762199\n",
      "--------------------------------------\n",
      "Result number: 17\n",
      "Absolut value of angle between query and result: 0.3043890534775409\n",
      "Question: Merging lines after condition\n",
      "Question site url: https://stackoverflow.com/questions/23803221\n",
      "--------------------------------------\n",
      "Result number: 18\n",
      "Absolut value of angle between query and result: 0.3043714016919694\n",
      "Question: Perform a copy() of a class attribute if an only if a subclass overrides a method\n",
      "Question site url: https://stackoverflow.com/questions/10749547\n",
      "--------------------------------------\n",
      "Result number: 19\n",
      "Absolut value of angle between query and result: 0.30339500268811165\n",
      "Question: Perl's __DATA__ equivalent in Python\n",
      "Question site url: https://stackoverflow.com/questions/38368956\n",
      "--------------------------------------\n",
      "Result number: 20\n",
      "Absolut value of angle between query and result: 0.3024565505702373\n",
      "Question: matplotlib hist while ignoring a particular no data value\n",
      "Question site url: https://stackoverflow.com/questions/8039276\n",
      "--------------------------------------\n"
     ]
    }
   ],
   "source": [
    "truncated_idf = load_truncated_svd(400)\n",
    "print_answers(question, find_closest_vectors_svd, truncated_idf)"
   ],
   "metadata": {
    "collapsed": false
   }
  },
  {
   "cell_type": "markdown",
   "source": [
    "Dla trudniejszego zapytania idf nie zwróciło żadnych sensownych informacji, dopiero przy przybliżeniu rzędu 400 pojawiły się wzmianki o jakieś faktycznej bibliotece\n",
    "(pandas)"
   ],
   "metadata": {
    "collapsed": false
   }
  },
  {
   "cell_type": "code",
   "execution_count": 69,
   "outputs": [],
   "source": [
    "question = \"How to write a search engine in python\""
   ],
   "metadata": {
    "collapsed": false
   }
  },
  {
   "cell_type": "code",
   "execution_count": 70,
   "outputs": [
    {
     "name": "stdout",
     "output_type": "stream",
     "text": [
      "Result number: 1\n",
      "Absolut value of angle between query and result: 0.4343968817518417\n",
      "Question: SQLalchemy with nested class\n",
      "Question site url: https://stackoverflow.com/questions/4172427\n",
      "--------------------------------------\n",
      "Result number: 2\n",
      "Absolut value of angle between query and result: 0.4041230793069078\n",
      "Question: Best full-text search for google-app-engine\n",
      "Question site url: https://stackoverflow.com/questions/2679601\n",
      "--------------------------------------\n",
      "Result number: 3\n",
      "Absolut value of angle between query and result: 0.4013177559867625\n",
      "Question: Full text search with google app engine using ndb models\n",
      "Question site url: https://stackoverflow.com/questions/9239575\n",
      "--------------------------------------\n",
      "Result number: 4\n",
      "Absolut value of angle between query and result: 0.3580153653917563\n",
      "Question: Using Search API Python - Google App Engine Big Table\n",
      "Question site url: https://stackoverflow.com/questions/13305302\n",
      "--------------------------------------\n",
      "Result number: 5\n",
      "Absolut value of angle between query and result: 0.3347126102397707\n",
      "Question: SQLAlchemy/Python: Using an engine per process, and injecting that engine into dependencies\n",
      "Question site url: https://stackoverflow.com/questions/25352437\n",
      "--------------------------------------\n",
      "Result number: 6\n",
      "Absolut value of angle between query and result: 0.3321766393771842\n",
      "Question: Google App Engine Search API, searching in multiple indexes\n",
      "Question site url: https://stackoverflow.com/questions/22070034\n",
      "--------------------------------------\n",
      "Result number: 7\n",
      "Absolut value of angle between query and result: 0.32401755531988286\n",
      "Question: are user defined classes mutable\n",
      "Question site url: https://stackoverflow.com/questions/12076445\n",
      "--------------------------------------\n",
      "Result number: 8\n",
      "Absolut value of angle between query and result: 0.3239240707909612\n",
      "Question: Writing a very basic search form in Django\n",
      "Question site url: https://stackoverflow.com/questions/16904173\n",
      "--------------------------------------\n",
      "Result number: 9\n",
      "Absolut value of angle between query and result: 0.32150057465095494\n",
      "Question: How can I implement a sounds like/soundex search using Google Appengine Full Text Search?\n",
      "Question site url: https://stackoverflow.com/questions/21317098\n",
      "--------------------------------------\n",
      "Result number: 10\n",
      "Absolut value of angle between query and result: 0.31044702236967253\n",
      "Question: Sphinx documentation generator search function hangs/fails\n",
      "Question site url: https://stackoverflow.com/questions/29401201\n",
      "--------------------------------------\n",
      "Result number: 11\n",
      "Absolut value of angle between query and result: 0.30653638233455527\n",
      "Question: how to create a pure browser/javascript search engine for a bunch of static files?\n",
      "Question site url: https://stackoverflow.com/questions/2607283\n",
      "--------------------------------------\n",
      "Result number: 12\n",
      "Absolut value of angle between query and result: 0.30349573345182956\n",
      "Question: How should I do full-text searching on App Engine?\n",
      "Question site url: https://stackoverflow.com/questions/4130813\n",
      "--------------------------------------\n",
      "Result number: 13\n",
      "Absolut value of angle between query and result: 0.30248000101672423\n",
      "Question: Need help using M2Crypto.Engine to access USB Token\n",
      "Question site url: https://stackoverflow.com/questions/2195179\n",
      "--------------------------------------\n",
      "Result number: 14\n",
      "Absolut value of angle between query and result: 0.3002525297144354\n",
      "Question: Building a full text search engine: where to start\n",
      "Question site url: https://stackoverflow.com/questions/176213\n",
      "--------------------------------------\n",
      "Result number: 15\n",
      "Absolut value of angle between query and result: 0.2972467416984925\n",
      "Question: Python structural issue: Giving an 'engine' class to everything\n",
      "Question site url: https://stackoverflow.com/questions/12848684\n",
      "--------------------------------------\n",
      "Result number: 16\n",
      "Absolut value of angle between query and result: 0.28880329208703787\n",
      "Question: Python - Get Result of Google Search\n",
      "Question site url: https://stackoverflow.com/questions/37754771\n",
      "--------------------------------------\n",
      "Result number: 17\n",
      "Absolut value of angle between query and result: 0.2886932039145722\n",
      "Question: Scoping rules and threads\n",
      "Question site url: https://stackoverflow.com/questions/6770084\n",
      "--------------------------------------\n",
      "Result number: 18\n",
      "Absolut value of angle between query and result: 0.28377670550215606\n",
      "Question: How to Communicate with a Chess engine in Python?\n",
      "Question site url: https://stackoverflow.com/questions/12341882\n",
      "--------------------------------------\n",
      "Result number: 19\n",
      "Absolut value of angle between query and result: 0.27724268004009994\n",
      "Question: Cannot obtain result from searching csv file in Python\n",
      "Question site url: https://stackoverflow.com/questions/30013146\n",
      "--------------------------------------\n",
      "Result number: 20\n",
      "Absolut value of angle between query and result: 0.2768936180861153\n",
      "Question: How to do related questions autopopulate\n",
      "Question site url: https://stackoverflow.com/questions/2036688\n",
      "--------------------------------------\n"
     ]
    }
   ],
   "source": [
    "print_answers(question, find_closest_vectors_idf) # idf"
   ],
   "metadata": {
    "collapsed": false
   }
  },
  {
   "cell_type": "code",
   "execution_count": 71,
   "outputs": [
    {
     "name": "stdout",
     "output_type": "stream",
     "text": [
      "Result number: 1\n",
      "Absolut value of angle between query and result: 0.41110074125940893\n",
      "Question: Advanced python string search\n",
      "Question site url: https://stackoverflow.com/questions/7143418\n",
      "--------------------------------------\n",
      "Result number: 2\n",
      "Absolut value of angle between query and result: 0.404309907412277\n",
      "Question: Google App Engine Datastore Faceted Search\n",
      "Question site url: https://stackoverflow.com/questions/2501431\n",
      "--------------------------------------\n",
      "Result number: 3\n",
      "Absolut value of angle between query and result: 0.399569762005354\n",
      "Question: Prospective Search Location-Based Searches\n",
      "Question site url: https://stackoverflow.com/questions/14266314\n",
      "--------------------------------------\n",
      "Result number: 4\n",
      "Absolut value of angle between query and result: 0.38637871782203476\n",
      "Question: Full text search with google app engine using ndb models\n",
      "Question site url: https://stackoverflow.com/questions/9239575\n",
      "--------------------------------------\n",
      "Result number: 5\n",
      "Absolut value of angle between query and result: 0.383890082405447\n",
      "Question: Search Engine for a single DB column\n",
      "Question site url: https://stackoverflow.com/questions/11082229\n",
      "--------------------------------------\n",
      "Result number: 6\n",
      "Absolut value of angle between query and result: 0.37584888818608986\n",
      "Question: How can I implement a sounds like/soundex search using Google Appengine Full Text Search?\n",
      "Question site url: https://stackoverflow.com/questions/21317098\n",
      "--------------------------------------\n",
      "Result number: 7\n",
      "Absolut value of angle between query and result: 0.3740240920175079\n",
      "Question: Best full-text search for google-app-engine\n",
      "Question site url: https://stackoverflow.com/questions/2679601\n",
      "--------------------------------------\n",
      "Result number: 8\n",
      "Absolut value of angle between query and result: 0.3621949752706145\n",
      "Question: How should I do full-text searching on App Engine?\n",
      "Question site url: https://stackoverflow.com/questions/4130813\n",
      "--------------------------------------\n",
      "Result number: 9\n",
      "Absolut value of angle between query and result: 0.35829119903281587\n",
      "Question: Is there a pure Python Lucene?\n",
      "Question site url: https://stackoverflow.com/questions/438315\n",
      "--------------------------------------\n",
      "Result number: 10\n",
      "Absolut value of angle between query and result: 0.34355269824951146\n",
      "Question: Python Website Full-Site Search\n",
      "Question site url: https://stackoverflow.com/questions/5705122\n",
      "--------------------------------------\n",
      "Result number: 11\n",
      "Absolut value of angle between query and result: 0.3368600266772028\n",
      "Question: Using \"or\" operator with imaplib search method\n",
      "Question site url: https://stackoverflow.com/questions/17459700\n",
      "--------------------------------------\n",
      "Result number: 12\n",
      "Absolut value of angle between query and result: 0.3312715325406325\n",
      "Question: A good django search app? Ã¢ÂÂ How to perform fuzzy search with Haystack?\n",
      "Question site url: https://stackoverflow.com/questions/2110411\n",
      "--------------------------------------\n",
      "Result number: 13\n",
      "Absolut value of angle between query and result: 0.33045105182957746\n",
      "Question: Using Search API Python - Google App Engine Big Table\n",
      "Question site url: https://stackoverflow.com/questions/13305302\n",
      "--------------------------------------\n",
      "Result number: 14\n",
      "Absolut value of angle between query and result: 0.32255585393645875\n",
      "Question: How to speed up scrolling responsiveness when displaying lots of text\n",
      "Question site url: https://stackoverflow.com/questions/38752923\n",
      "--------------------------------------\n",
      "Result number: 15\n",
      "Absolut value of angle between query and result: 0.3178163260615793\n",
      "Question: Python module for searching patent databases, ie USPTO or EPO\n",
      "Question site url: https://stackoverflow.com/questions/15028166\n",
      "--------------------------------------\n",
      "Result number: 16\n",
      "Absolut value of angle between query and result: 0.3166319252337615\n",
      "Question: Google App Engine Search API, searching in multiple indexes\n",
      "Question site url: https://stackoverflow.com/questions/22070034\n",
      "--------------------------------------\n",
      "Result number: 17\n",
      "Absolut value of angle between query and result: 0.3165617404373332\n",
      "Question: Google search to retrieve number of results for search keywords\n",
      "Question site url: https://stackoverflow.com/questions/4785833\n",
      "--------------------------------------\n",
      "Result number: 18\n",
      "Absolut value of angle between query and result: 0.3129008596407527\n",
      "Question: Python - Get Result of Google Search\n",
      "Question site url: https://stackoverflow.com/questions/37754771\n",
      "--------------------------------------\n",
      "Result number: 19\n",
      "Absolut value of angle between query and result: 0.30197137145643194\n",
      "Question: What are the current options for storing, indexing, and querying geospatial data on Google App Engine?\n",
      "Question site url: https://stackoverflow.com/questions/11765202\n",
      "--------------------------------------\n",
      "Result number: 20\n",
      "Absolut value of angle between query and result: 0.30139234504478685\n",
      "Question: Searching and indexing hyphenated words with Whoosh\n",
      "Question site url: https://stackoverflow.com/questions/36507752\n",
      "--------------------------------------\n"
     ]
    }
   ],
   "source": [
    "print_answers(question, find_closest_vectors_svd, truncated_idf) # k = 400"
   ],
   "metadata": {
    "collapsed": false
   }
  },
  {
   "cell_type": "markdown",
   "source": [
    "W tym przypadku oba modele zwróciły dość dobre wyniki. Poza informacjami o różnych wyszukiwarkach w odpowiedziach znalazły się różne poradniki."
   ],
   "metadata": {
    "collapsed": false
   }
  },
  {
   "cell_type": "code",
   "execution_count": 88,
   "outputs": [],
   "source": [
    "question = \"Switch case in python\""
   ],
   "metadata": {
    "collapsed": false
   }
  },
  {
   "cell_type": "code",
   "execution_count": 89,
   "outputs": [
    {
     "name": "stdout",
     "output_type": "stream",
     "text": [
      "Result number: 1\n",
      "Absolut value of angle between query and result: 0.5084885998423402\n",
      "Question: Resolving shift/reduce conflict for default label in switch block\n",
      "Question site url: https://stackoverflow.com/questions/39797216\n",
      "--------------------------------------\n",
      "Result number: 2\n",
      "Absolut value of angle between query and result: 0.4797240600090062\n",
      "Question: Is there any value to a Switch / Case implementation in Python?\n",
      "Question site url: https://stackoverflow.com/questions/5440990\n",
      "--------------------------------------\n",
      "Result number: 3\n",
      "Absolut value of angle between query and result: 0.457133947818973\n",
      "Question: Is this a \"pythonic\" method of executing functions as a python switch statement for tuple values?\n",
      "Question site url: https://stackoverflow.com/questions/7857837\n",
      "--------------------------------------\n",
      "Result number: 4\n",
      "Absolut value of angle between query and result: 0.419417932636208\n",
      "Question: Replacements for switch statement in Python?\n",
      "Question site url: https://stackoverflow.com/questions/60208\n",
      "--------------------------------------\n",
      "Result number: 5\n",
      "Absolut value of angle between query and result: 0.40316340315976357\n",
      "Question: another switch case with functions\n",
      "Question site url: https://stackoverflow.com/questions/4681556\n",
      "--------------------------------------\n",
      "Result number: 6\n",
      "Absolut value of angle between query and result: 0.4024130857051739\n",
      "Question: Switch in Python\n",
      "Question site url: https://stackoverflow.com/questions/8895864\n",
      "--------------------------------------\n",
      "Result number: 7\n",
      "Absolut value of angle between query and result: 0.3802563932247601\n",
      "Question: Emulate a full-featured switch in Python\n",
      "Question site url: https://stackoverflow.com/questions/23546864\n",
      "--------------------------------------\n",
      "Result number: 8\n",
      "Absolut value of angle between query and result: 0.3414796125414832\n",
      "Question: Python Program Cannot Handle Large Numbers\n",
      "Question site url: https://stackoverflow.com/questions/29490732\n",
      "--------------------------------------\n",
      "Result number: 9\n",
      "Absolut value of angle between query and result: 0.33889412661677665\n",
      "Question: calculate amount of time intersection when all sequences fullfill certain criteria?\n",
      "Question site url: https://stackoverflow.com/questions/9976293\n",
      "--------------------------------------\n",
      "Result number: 10\n",
      "Absolut value of angle between query and result: 0.33366303116798646\n",
      "Question: PEP 3130: Difference between switch case and if statement code blocks\n",
      "Question site url: https://stackoverflow.com/questions/32013751\n",
      "--------------------------------------\n",
      "Result number: 11\n",
      "Absolut value of angle between query and result: 0.31278378666335\n",
      "Question: Does Python have an equivalent to 'switch'?\n",
      "Question site url: https://stackoverflow.com/questions/1429505\n",
      "--------------------------------------\n",
      "Result number: 12\n",
      "Absolut value of angle between query and result: 0.30472166771145504\n",
      "Question: how can I combine a switch-case and regex in Python\n",
      "Question site url: https://stackoverflow.com/questions/4980146\n",
      "--------------------------------------\n",
      "Result number: 13\n",
      "Absolut value of angle between query and result: 0.3009525133140808\n",
      "Question: switch case in python doesn't work; need another pattern\n",
      "Question site url: https://stackoverflow.com/questions/3886641\n",
      "--------------------------------------\n",
      "Result number: 14\n",
      "Absolut value of angle between query and result: 0.2472303234735849\n",
      "Question: Open a Url in new tab and tab switching in IE using python and selenium\n",
      "Question site url: https://stackoverflow.com/questions/30047443\n",
      "--------------------------------------\n",
      "Result number: 15\n",
      "Absolut value of angle between query and result: 0.22954541084557503\n",
      "Question: Python for loop implementation\n",
      "Question site url: https://stackoverflow.com/questions/16387471\n",
      "--------------------------------------\n",
      "Result number: 16\n",
      "Absolut value of angle between query and result: 0.22781836023918142\n",
      "Question: Another Regex Issue\n",
      "Question site url: https://stackoverflow.com/questions/31942960\n",
      "--------------------------------------\n",
      "Result number: 17\n",
      "Absolut value of angle between query and result: 0.2262003613549991\n",
      "Question: How to switch axes in matplotlib?\n",
      "Question site url: https://stackoverflow.com/questions/2361872\n",
      "--------------------------------------\n",
      "Result number: 18\n",
      "Absolut value of angle between query and result: 0.2250933836483978\n",
      "Question: How to print all the result of each loop one time in python\n",
      "Question site url: https://stackoverflow.com/questions/33506474\n",
      "--------------------------------------\n",
      "Result number: 19\n",
      "Absolut value of angle between query and result: 0.22493437624484114\n",
      "Question: Is it possible to add a statement to python3 via an import? Or do I have to modify c files and recompile\n",
      "Question site url: https://stackoverflow.com/questions/11269473\n",
      "--------------------------------------\n",
      "Result number: 20\n",
      "Absolut value of angle between query and result: 0.22299342186227974\n",
      "Question: Python passing variables between functions (boolean)\n",
      "Question site url: https://stackoverflow.com/questions/32415901\n",
      "--------------------------------------\n"
     ]
    }
   ],
   "source": [
    "print_answers(question, find_closest_vectors_idf) # idf"
   ],
   "metadata": {
    "collapsed": false
   }
  },
  {
   "cell_type": "code",
   "execution_count": 90,
   "outputs": [
    {
     "name": "stdout",
     "output_type": "stream",
     "text": [
      "Result number: 1\n",
      "Absolut value of angle between query and result: 0.052003502749733706\n",
      "Question: Should I optimise my python code like C++? Does it matter?\n",
      "Question site url: https://stackoverflow.com/questions/1353715\n",
      "--------------------------------------\n",
      "Result number: 2\n",
      "Absolut value of angle between query and result: 0.05137634195540674\n",
      "Question: Necessity of an 'empty' else statement in Python\n",
      "Question site url: https://stackoverflow.com/questions/31575251\n",
      "--------------------------------------\n",
      "Result number: 3\n",
      "Absolut value of angle between query and result: 0.05009837152788884\n",
      "Question: another switch case with functions\n",
      "Question site url: https://stackoverflow.com/questions/4681556\n",
      "--------------------------------------\n",
      "Result number: 4\n",
      "Absolut value of angle between query and result: 0.04974677540559106\n",
      "Question: \"else\" considered harmful in Python?\n",
      "Question site url: https://stackoverflow.com/questions/865741\n",
      "--------------------------------------\n",
      "Result number: 5\n",
      "Absolut value of angle between query and result: 0.04835468493568166\n",
      "Question: When does reflection stop being worth it?\n",
      "Question site url: https://stackoverflow.com/questions/13132534\n",
      "--------------------------------------\n",
      "Result number: 6\n",
      "Absolut value of angle between query and result: 0.04830255293976836\n",
      "Question: Do we have something similar/equivalent to Jdbctemplate in Python?\n",
      "Question site url: https://stackoverflow.com/questions/7494640\n",
      "--------------------------------------\n",
      "Result number: 7\n",
      "Absolut value of angle between query and result: 0.04793297513733642\n",
      "Question: Is there any value to a Switch / Case implementation in Python?\n",
      "Question site url: https://stackoverflow.com/questions/5440990\n",
      "--------------------------------------\n",
      "Result number: 8\n",
      "Absolut value of angle between query and result: 0.04756205192611289\n",
      "Question: Which PEP's are must reads?\n",
      "Question site url: https://stackoverflow.com/questions/1382648\n",
      "--------------------------------------\n",
      "Result number: 9\n",
      "Absolut value of angle between query and result: 0.047257823766537636\n",
      "Question: Using pass on a non necessary else statement\n",
      "Question site url: https://stackoverflow.com/questions/20859998\n",
      "--------------------------------------\n",
      "Result number: 10\n",
      "Absolut value of angle between query and result: 0.04697916697286976\n",
      "Question: when to use if vs elif in python\n",
      "Question site url: https://stackoverflow.com/questions/22782785\n",
      "--------------------------------------\n",
      "Result number: 11\n",
      "Absolut value of angle between query and result: 0.04634220790345386\n",
      "Question: Why isn't there a do while flow control statement in python?\n",
      "Question site url: https://stackoverflow.com/questions/2192344\n",
      "--------------------------------------\n",
      "Result number: 12\n",
      "Absolut value of angle between query and result: 0.046249153588279475\n",
      "Question: Which Python Conditional Return Statement Is The Most Pythonic?\n",
      "Question site url: https://stackoverflow.com/questions/26725284\n",
      "--------------------------------------\n",
      "Result number: 13\n",
      "Absolut value of angle between query and result: 0.0450636194582425\n",
      "Question: else vs return to use in a function to prematurely stop processing\n",
      "Question site url: https://stackoverflow.com/questions/11194119\n",
      "--------------------------------------\n",
      "Result number: 14\n",
      "Absolut value of angle between query and result: 0.04476859460013096\n",
      "Question: Preferred Python (or any language, really) style: Should else be used when if returns?\n",
      "Question site url: https://stackoverflow.com/questions/11122129\n",
      "--------------------------------------\n",
      "Result number: 15\n",
      "Absolut value of angle between query and result: 0.044176093170052354\n",
      "Question: Preserve code readability while optimising\n",
      "Question site url: https://stackoverflow.com/questions/7300903\n",
      "--------------------------------------\n",
      "Result number: 16\n",
      "Absolut value of angle between query and result: 0.04380730554755109\n",
      "Question: 'Finally' equivalent for If/Elif statements in Python\n",
      "Question site url: https://stackoverflow.com/questions/21612910\n",
      "--------------------------------------\n",
      "Result number: 17\n",
      "Absolut value of angle between query and result: 0.043502941360035983\n",
      "Question: How To Use The Pass Statement In Python\n",
      "Question site url: https://stackoverflow.com/questions/13886168\n",
      "--------------------------------------\n",
      "Result number: 18\n",
      "Absolut value of angle between query and result: 0.043436109596927217\n",
      "Question: Functional python programming and conditionals\n",
      "Question site url: https://stackoverflow.com/questions/13209119\n",
      "--------------------------------------\n",
      "Result number: 19\n",
      "Absolut value of angle between query and result: 0.04323522187835601\n",
      "Question: Python assert statement and code reusability\n",
      "Question site url: https://stackoverflow.com/questions/10019043\n",
      "--------------------------------------\n",
      "Result number: 20\n",
      "Absolut value of angle between query and result: 0.042921321678473304\n",
      "Question: Functions and if - else in python. Codeacademy\n",
      "Question site url: https://stackoverflow.com/questions/15149667\n",
      "--------------------------------------\n"
     ]
    }
   ],
   "source": [
    "print_answers(question, find_closest_vectors_svd, truncated_idf)"
   ],
   "metadata": {
    "collapsed": false
   }
  },
  {
   "cell_type": "markdown",
   "source": [
    "Dla tego prostego zapytania jednak svd zwróciło kilka dziwnych niezwiązanych z tematem wyników. A także maksymalna wartość kąta była bardzo mała"
   ],
   "metadata": {
    "collapsed": false
   }
  },
  {
   "cell_type": "markdown",
   "source": [
    "### Wnioski\n",
    "\n",
    "Najważniejszą częścią było użycie inverse document frequency. Bez niej model zwracał uwagę jedynie na najważniejsze słowa w każdym tekście.\n",
    "SVD dawało czasami odpowiedzi, które były kontekstowo związane z danym zapytaniem, lecz zwracało też czasami wyniki wgl z tym niezwiązane.\n",
    "Zwykła macierz była bardziej \"stabilna\", lecz dla trudniejszych zapytań nie było szans na znalezienie sensownych odpowiedzi.\n",
    "Ogółem SVD nie dawało bardzo dużej poprawy. Możliwe, że wybrałem nieodpowiedni dataset. Dokumentów było 180 tysięcy, więc można było spodziewać się odpowiedzi na większość pytań odnośnie pythona, lecz po tokenizacji i przetworzeniu dokument średnio zawierał około 112 słów z alfabetu i być może było to zbyt mało i ciężko było znaleźć korelację dla bardzo rzadkich wektorów powstałych z danego zapytania\n",
    "\n"
   ],
   "metadata": {
    "collapsed": false
   }
  },
  {
   "cell_type": "code",
   "execution_count": 23,
   "outputs": [],
   "source": [],
   "metadata": {
    "collapsed": false
   }
  }
 ],
 "metadata": {
  "kernelspec": {
   "display_name": "Python 3",
   "language": "python",
   "name": "python3"
  },
  "language_info": {
   "codemirror_mode": {
    "name": "ipython",
    "version": 2
   },
   "file_extension": ".py",
   "mimetype": "text/x-python",
   "name": "python",
   "nbconvert_exporter": "python",
   "pygments_lexer": "ipython2",
   "version": "2.7.6"
  }
 },
 "nbformat": 4,
 "nbformat_minor": 0
}
