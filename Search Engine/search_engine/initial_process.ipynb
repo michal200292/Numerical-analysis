{
 "cells": [
  {
   "cell_type": "code",
   "execution_count": 1,
   "metadata": {
    "collapsed": true
   },
   "outputs": [],
   "source": [
    "import pandas as pd\n",
    "from data_manager import Document\n",
    "import pickle\n",
    "from bs4 import BeautifulSoup"
   ]
  },
  {
   "cell_type": "markdown",
   "source": [
    "# Dataset\n",
    "\n",
    "Gotowy dataset wymagający lekkiego preprocessingu został pobrany ze strony kaggle.com.\n",
    "Jest to zbiór stron z pytaniami i odpowiedziami ze stack overflow z tagiem python.\n",
    "Pytania pochodzą z lat 2008 - 2016. Początkowy zbiór zawierał ponad 600 tysięcy pytań. Ostatecznie został ograniczony do\n",
    "około 180 tysięcy.\n"
   ],
   "metadata": {
    "collapsed": false
   }
  },
  {
   "cell_type": "code",
   "execution_count": 2,
   "outputs": [],
   "source": [
    "df = pd.read_csv(\"data/Questions.csv\", encoding=\"latin-1\")\n",
    "df2 = pd.read_csv(\"data/Answers.csv\", encoding=\"latin-1\")\n",
    "df3 = pd.read_csv(\"data/Tags.csv\", encoding=\"latin-1\")"
   ],
   "metadata": {
    "collapsed": false
   }
  },
  {
   "cell_type": "code",
   "execution_count": 3,
   "outputs": [],
   "source": [
    "answers = {}\n",
    "for index, row in df2.iterrows():\n",
    "    p_id = row['ParentId']\n",
    "    if p_id not in answers:\n",
    "        answers[p_id] = [row]\n",
    "    else:\n",
    "        answers[p_id].append(row)"
   ],
   "metadata": {
    "collapsed": false
   }
  },
  {
   "cell_type": "code",
   "execution_count": 4,
   "outputs": [],
   "source": [
    "tags = {}\n",
    "for index, row in df3.iterrows():\n",
    "    p_id = row['Id']\n",
    "    if p_id not in tags:\n",
    "        tags[p_id] = [row]\n",
    "    else:\n",
    "        tags[p_id].append(row)"
   ],
   "metadata": {
    "collapsed": false
   }
  },
  {
   "cell_type": "code",
   "execution_count": 5,
   "outputs": [],
   "source": [
    "docs: list[Document] = []\n",
    "\n",
    "for index, row in df.iterrows():\n",
    "    p_id = row['Id']\n",
    "    soup = BeautifulSoup(row['Body'], features='lxml')\n",
    "    txt = row['Title'] + \" \" + soup.text\n",
    "\n",
    "    answer_text = \"\"\n",
    "    if p_id in answers:\n",
    "        answer_text = \"\\n\".join([ans['Body'] for ans in answers[row['Id']]])\n",
    "        soup = BeautifulSoup(answer_text, features='lxml')\n",
    "        answer_text = soup.text + \" \"\n",
    "\n",
    "    if p_id in tags:\n",
    "        answer_text += \"\\n\".join([str(tag['Tag']) for tag in tags[row['Id']]])\n",
    "\n",
    "    txt += answer_text\n",
    "    docs.append(Document(row['Title'], row['Id'], txt))\n"
   ],
   "metadata": {
    "collapsed": false
   }
  },
  {
   "cell_type": "code",
   "execution_count": 6,
   "outputs": [],
   "source": [
    "with open(\"data/RawDocuments.pickle\", \"wb\") as f:\n",
    "    for doc in docs:\n",
    "        pickle.dump(doc, f)"
   ],
   "metadata": {
    "collapsed": false
   }
  },
  {
   "cell_type": "code",
   "execution_count": null,
   "outputs": [],
   "source": [],
   "metadata": {
    "collapsed": false
   }
  }
 ],
 "metadata": {
  "kernelspec": {
   "display_name": "Python 3",
   "language": "python",
   "name": "python3"
  },
  "language_info": {
   "codemirror_mode": {
    "name": "ipython",
    "version": 2
   },
   "file_extension": ".py",
   "mimetype": "text/x-python",
   "name": "python",
   "nbconvert_exporter": "python",
   "pygments_lexer": "ipython2",
   "version": "2.7.6"
  }
 },
 "nbformat": 4,
 "nbformat_minor": 0
}
