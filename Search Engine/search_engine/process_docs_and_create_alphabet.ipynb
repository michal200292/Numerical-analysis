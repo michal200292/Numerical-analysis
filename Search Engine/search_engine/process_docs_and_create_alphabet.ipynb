{
 "cells": [
  {
   "cell_type": "code",
   "execution_count": 1,
   "metadata": {
    "collapsed": true
   },
   "outputs": [],
   "source": [
    "from data_manager import Document, Vector\n",
    "from nltk.tokenize import word_tokenize, sent_tokenize\n",
    "from nltk.corpus import stopwords\n",
    "from nltk.stem import SnowballStemmer\n",
    "from nltk.probability import FreqDist\n",
    "from string import punctuation\n",
    "import json\n",
    "import pickle"
   ]
  },
  {
   "cell_type": "markdown",
   "source": [
    "Ostateczny alfabet zawierał 97308 wyrazów."
   ],
   "metadata": {
    "collapsed": false
   }
  },
  {
   "cell_type": "code",
   "execution_count": 2,
   "outputs": [],
   "source": [
    "stop_words = set([word.lower() for word in stopwords.words('english')])\n",
    "snowball_stemmer = SnowballStemmer('english')\n",
    "\n",
    "def process_text(text: str) -> dict[str, int]:\n",
    "    text = \"\".join(list(map(lambda c: \" \" if c in punctuation else c, text)))\n",
    "    words = [word.lower() for sentence in sent_tokenize(text) for word in word_tokenize(sentence)]\n",
    "    words = [word for word in words if word not in stop_words]\n",
    "    words = [snowball_stemmer.stem(word) for word in words]\n",
    "    return dict(FreqDist(words))"
   ],
   "metadata": {
    "collapsed": false
   }
  },
  {
   "cell_type": "code",
   "execution_count": 3,
   "outputs": [],
   "source": [
    "docs: list[Document] = []\n",
    "with open(\"data/RawDocuments.pickle\", \"rb\") as f:\n",
    "    while True:\n",
    "        try:\n",
    "            docs.append(pickle.load(f))\n",
    "        except EOFError:\n",
    "            break"
   ],
   "metadata": {
    "collapsed": false
   }
  },
  {
   "cell_type": "code",
   "execution_count": 4,
   "outputs": [
    {
     "name": "stdout",
     "output_type": "stream",
     "text": [
      "CPU times: total: 15min 25s\n",
      "Wall time: 16min 6s\n"
     ]
    }
   ],
   "source": [
    "%%time\n",
    "vectors: list[Vector] = []\n",
    "for doc in docs:\n",
    "    vectors.append(Vector(doc.question_title, doc.question_id, process_text(doc.text)))"
   ],
   "metadata": {
    "collapsed": false
   }
  },
  {
   "cell_type": "code",
   "execution_count": 5,
   "outputs": [],
   "source": [
    "with open(\"data/Documents.pickle\", \"wb\") as f:\n",
    "    for vec in vectors:\n",
    "        pickle.dump(vec, f)"
   ],
   "metadata": {
    "collapsed": false
   }
  },
  {
   "cell_type": "code",
   "execution_count": 6,
   "outputs": [],
   "source": [
    "initial_alphabet = {}\n",
    "word_count = 0\n",
    "for vec in vectors:\n",
    "    for word in vec.vector:\n",
    "        if word not in initial_alphabet:\n",
    "            initial_alphabet[word] = 1\n",
    "        else:\n",
    "            initial_alphabet[word] += 1\n",
    "        word_count += 1"
   ],
   "metadata": {
    "collapsed": false
   }
  },
  {
   "cell_type": "code",
   "execution_count": 7,
   "outputs": [
    {
     "name": "stdout",
     "output_type": "stream",
     "text": [
      "676754 21235997\n"
     ]
    }
   ],
   "source": [
    "print(len(initial_alphabet), word_count)"
   ],
   "metadata": {
    "collapsed": false
   }
  },
  {
   "cell_type": "code",
   "execution_count": 8,
   "outputs": [],
   "source": [
    "def remove_words_with_count_below_2(alphabet):\n",
    "    new_alphabet = {}\n",
    "    for word in alphabet:\n",
    "        if alphabet[word] > 2:\n",
    "            new_alphabet[word] = alphabet[word]\n",
    "    return new_alphabet"
   ],
   "metadata": {
    "collapsed": false
   }
  },
  {
   "cell_type": "code",
   "execution_count": 9,
   "outputs": [],
   "source": [
    "initial_alphabet = remove_words_with_count_below_2(initial_alphabet)"
   ],
   "metadata": {
    "collapsed": false
   }
  },
  {
   "cell_type": "code",
   "execution_count": 10,
   "outputs": [
    {
     "name": "stdout",
     "output_type": "stream",
     "text": [
      "98021\n"
     ]
    }
   ],
   "source": [
    "print(len(initial_alphabet))"
   ],
   "metadata": {
    "collapsed": false
   }
  },
  {
   "cell_type": "code",
   "execution_count": 11,
   "outputs": [],
   "source": [
    "word_c = {}\n",
    "for v in vectors:\n",
    "    for w in v.vector:\n",
    "        if w not in word_c:\n",
    "            word_c[w] = 1\n",
    "        else:\n",
    "            word_c[w] += 1"
   ],
   "metadata": {
    "collapsed": false
   }
  },
  {
   "cell_type": "code",
   "execution_count": 12,
   "outputs": [],
   "source": [
    "def remove_weird_words(alphabet):\n",
    "    new_alphabet = {}\n",
    "    for word in alphabet:\n",
    "        if len(word) <= 20:\n",
    "            new_alphabet[word] = alphabet[word]\n",
    "    return new_alphabet"
   ],
   "metadata": {
    "collapsed": false
   }
  },
  {
   "cell_type": "code",
   "execution_count": 13,
   "outputs": [],
   "source": [
    "initial_alphabet = remove_weird_words(initial_alphabet)"
   ],
   "metadata": {
    "collapsed": false
   }
  },
  {
   "cell_type": "code",
   "execution_count": 14,
   "outputs": [
    {
     "name": "stdout",
     "output_type": "stream",
     "text": [
      "97308\n"
     ]
    }
   ],
   "source": [
    "print(len(initial_alphabet))"
   ],
   "metadata": {
    "collapsed": false
   }
  },
  {
   "cell_type": "code",
   "execution_count": 15,
   "outputs": [],
   "source": [
    "ind = 0\n",
    "indexed_alphabet = {}\n",
    "for word in initial_alphabet:\n",
    "    indexed_alphabet[word] = ind\n",
    "    ind += 1"
   ],
   "metadata": {
    "collapsed": false
   }
  },
  {
   "cell_type": "code",
   "execution_count": 16,
   "outputs": [],
   "source": [
    "with open(\"data/alphabet.json\", \"w\", encoding=\"latin-1\") as f:\n",
    "    json.dump(indexed_alphabet, f)"
   ],
   "metadata": {
    "collapsed": false
   }
  },
  {
   "cell_type": "code",
   "execution_count": 17,
   "outputs": [],
   "source": [
    "for vec in vectors:\n",
    "    new_vector = {}\n",
    "    for word in vec.vector:\n",
    "        if word in indexed_alphabet:\n",
    "            new_vector[word] = vec.vector[word]\n",
    "    vec.vector = new_vector"
   ],
   "metadata": {
    "collapsed": false
   }
  },
  {
   "cell_type": "code",
   "execution_count": 18,
   "outputs": [],
   "source": [
    "with open(\"data/Bag_of_words.pickle\", \"wb\") as f:\n",
    "    for vec in vectors:\n",
    "        pickle.dump(vec, f)"
   ],
   "metadata": {
    "collapsed": false
   }
  },
  {
   "cell_type": "code",
   "execution_count": null,
   "outputs": [],
   "source": [],
   "metadata": {
    "collapsed": false
   }
  }
 ],
 "metadata": {
  "kernelspec": {
   "display_name": "Python 3",
   "language": "python",
   "name": "python3"
  },
  "language_info": {
   "codemirror_mode": {
    "name": "ipython",
    "version": 2
   },
   "file_extension": ".py",
   "mimetype": "text/x-python",
   "name": "python",
   "nbconvert_exporter": "python",
   "pygments_lexer": "ipython2",
   "version": "2.7.6"
  }
 },
 "nbformat": 4,
 "nbformat_minor": 0
}
